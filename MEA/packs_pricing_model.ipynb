{
 "cells": [
  {
   "cell_type": "markdown",
   "metadata": {},
   "source": [
    "# Pricing Model"
   ]
  },
  {
   "cell_type": "code",
   "execution_count": 1,
   "metadata": {},
   "outputs": [],
   "source": [
    "import pandas as pd\n",
    "import numpy as np\n",
    "import pack_utils\n",
    "import matplotlib.pyplot as plt\n",
    "\n",
    "%matplotlib inline"
   ]
  },
  {
   "cell_type": "code",
   "execution_count": 2,
   "metadata": {},
   "outputs": [],
   "source": [
    "pm_starter = pack_utils.make_pricing_model_starter(pack_utils.LIST_OF_CSVS)"
   ]
  },
  {
   "cell_type": "code",
   "execution_count": 3,
   "metadata": {},
   "outputs": [
    {
     "data": {
      "text/plain": [
       "Advanced          104\n",
       "Reserves           81\n",
       "Jumbo Supply       69\n",
       "Supply             43\n",
       "Ammo Priming       38\n",
       "Premium            38\n",
       "Expert             32\n",
       "Arsenal            32\n",
       "Technical Mods     21\n",
       "Name: Pack, dtype: int64"
      ]
     },
     "execution_count": 3,
     "metadata": {},
     "output_type": "execute_result"
    }
   ],
   "source": [
    "pm_starter['Pack'].value_counts()"
   ]
  },
  {
   "cell_type": "code",
   "execution_count": 4,
   "metadata": {},
   "outputs": [
    {
     "name": "stdout",
     "output_type": "stream",
     "text": [
      "<class 'pandas.core.frame.DataFrame'>\n",
      "Int64Index: 458 entries, 2 to 423\n",
      "Data columns (total 14 columns):\n",
      "Pack               458 non-null object\n",
      "Price              458 non-null float64\n",
      "Common (C/W)       458 non-null float64\n",
      "Uncommon (C/W)     458 non-null float64\n",
      "Rare Mod           458 non-null float64\n",
      "Rare Weap.         458 non-null float64\n",
      "Rare Char.         458 non-null float64\n",
      "UR Weap.           458 non-null float64\n",
      "UR Char.           458 non-null float64\n",
      "1 Level booster    458 non-null float64\n",
      "2 Level booster    458 non-null float64\n",
      "3 Level booster    458 non-null float64\n",
      "4 Level booster    458 non-null float64\n",
      "N. Consumbales     458 non-null float64\n",
      "dtypes: float64(13), object(1)\n",
      "memory usage: 53.7+ KB\n"
     ]
    }
   ],
   "source": [
    "pm_starter.info()"
   ]
  },
  {
   "cell_type": "markdown",
   "metadata": {},
   "source": [
    "## UR True Credits Cost"
   ]
  },
  {
   "cell_type": "code",
   "execution_count": 5,
   "metadata": {},
   "outputs": [],
   "source": [
    "sp_df = pack_utils.get_support_packs_df(pm_starter)"
   ]
  },
  {
   "cell_type": "code",
   "execution_count": 6,
   "metadata": {},
   "outputs": [
    {
     "data": {
      "text/plain": [
       "Jumbo Supply    69\n",
       "Supply          43\n",
       "Ammo Priming    38\n",
       "Name: Pack, dtype: int64"
      ]
     },
     "execution_count": 6,
     "metadata": {},
     "output_type": "execute_result"
    }
   ],
   "source": [
    "sp_df['Pack'].value_counts()"
   ]
  },
  {
   "cell_type": "code",
   "execution_count": 7,
   "metadata": {},
   "outputs": [
    {
     "data": {
      "text/plain": [
       "10000.0    107\n",
       "2000.0      43\n",
       "Name: Price, dtype: int64"
      ]
     },
     "execution_count": 7,
     "metadata": {},
     "output_type": "execute_result"
    }
   ],
   "source": [
    "sp_df['Price'].value_counts()"
   ]
  },
  {
   "cell_type": "code",
   "execution_count": 8,
   "metadata": {},
   "outputs": [
    {
     "name": "stdout",
     "output_type": "stream",
     "text": [
      "1156000.0\n"
     ]
    }
   ],
   "source": [
    "support_cost = np.sum(sp_df['Price'])\n",
    "print(support_cost)"
   ]
  },
  {
   "cell_type": "code",
   "execution_count": 9,
   "metadata": {},
   "outputs": [],
   "source": [
    "ur_df = pack_utils.get_ur_packs_df(pm_starter)"
   ]
  },
  {
   "cell_type": "code",
   "execution_count": 10,
   "metadata": {},
   "outputs": [
    {
     "data": {
      "text/plain": [
       "Reserves    81\n",
       "Premium     38\n",
       "Arsenal     32\n",
       "Expert      32\n",
       "Name: Pack, dtype: int64"
      ]
     },
     "execution_count": 10,
     "metadata": {},
     "output_type": "execute_result"
    }
   ],
   "source": [
    "ur_df['Pack'].value_counts()"
   ]
  },
  {
   "cell_type": "code",
   "execution_count": 11,
   "metadata": {},
   "outputs": [
    {
     "data": {
      "text/plain": [
       "100000.0    151\n",
       "50000.0      32\n",
       "Name: Price, dtype: int64"
      ]
     },
     "execution_count": 11,
     "metadata": {},
     "output_type": "execute_result"
    }
   ],
   "source": [
    "ur_df['Price'].value_counts()"
   ]
  },
  {
   "cell_type": "code",
   "execution_count": 12,
   "metadata": {},
   "outputs": [
    {
     "name": "stdout",
     "output_type": "stream",
     "text": [
      "16700000.0\n"
     ]
    }
   ],
   "source": [
    "ur_pack_cost = np.sum(ur_df['Price'])\n",
    "print(ur_pack_cost)"
   ]
  },
  {
   "cell_type": "code",
   "execution_count": 13,
   "metadata": {},
   "outputs": [
    {
     "name": "stdout",
     "output_type": "stream",
     "text": [
      "Number of total URs = 42.0\n"
     ]
    }
   ],
   "source": [
    "n_ur_char, n_ur_weap = pack_utils.get_ur_counts(ur_df)\n",
    "n_ur_tot = n_ur_weap + n_ur_char\n",
    "print('Number of total URs =', n_ur_tot)"
   ]
  },
  {
   "cell_type": "code",
   "execution_count": 14,
   "metadata": {},
   "outputs": [
    {
     "name": "stdout",
     "output_type": "stream",
     "text": [
      "425142.85714285716\n"
     ]
    }
   ],
   "source": [
    "creds_per_ur = (ur_pack_cost + support_cost) / n_ur_tot\n",
    "print(creds_per_ur)"
   ]
  },
  {
   "cell_type": "markdown",
   "metadata": {},
   "source": [
    "## Boosters and Consumables Prices"
   ]
  },
  {
   "cell_type": "markdown",
   "metadata": {},
   "source": [
    "### Global (over all packs)"
   ]
  },
  {
   "cell_type": "code",
   "execution_count": 15,
   "metadata": {},
   "outputs": [],
   "source": [
    "bs_df = pm_starter.copy()\n",
    "bs_df = bs_df.drop(columns=['Pack'])"
   ]
  },
  {
   "cell_type": "markdown",
   "metadata": {},
   "source": [
    "Here, URs are confusing because their true value is not reflected in their appearance."
   ]
  },
  {
   "cell_type": "code",
   "execution_count": 16,
   "metadata": {},
   "outputs": [
    {
     "data": {
      "text/plain": [
       "['Price',\n",
       " 'Common (C/W)',\n",
       " 'Uncommon (C/W)',\n",
       " 'Rare Mod',\n",
       " 'Rare Weap.',\n",
       " 'Rare Char.',\n",
       " 'UR Weap.',\n",
       " 'UR Char.',\n",
       " '1 Level booster',\n",
       " '2 Level booster',\n",
       " '3 Level booster',\n",
       " '4 Level booster',\n",
       " 'N. Consumbales']"
      ]
     },
     "execution_count": 16,
     "metadata": {},
     "output_type": "execute_result"
    }
   ],
   "source": [
    "list(bs_df)"
   ]
  },
  {
   "cell_type": "code",
   "execution_count": 17,
   "metadata": {},
   "outputs": [],
   "source": [
    "bs_df['R/UR Weap.'] = bs_df['Rare Weap.'] + bs_df['UR Weap.']\n",
    "bs_df['R/UR Char.'] = bs_df['Rare Char.'] + bs_df['UR Char.']"
   ]
  },
  {
   "cell_type": "code",
   "execution_count": 18,
   "metadata": {},
   "outputs": [
    {
     "name": "stdout",
     "output_type": "stream",
     "text": [
      "['Price', 'Common (C/W)', 'Uncommon (C/W)', 'Rare Mod', '1 Level booster', '2 Level booster', '3 Level booster', '4 Level booster', 'N. Consumbales', 'R/UR Weap.', 'R/UR Char.']\n"
     ]
    }
   ],
   "source": [
    "bs_df = bs_df.drop(columns=['Rare Weap.', 'Rare Char.', 'UR Weap.', 'UR Char.'])\n",
    "print(list(bs_df))"
   ]
  },
  {
   "cell_type": "code",
   "execution_count": 19,
   "metadata": {},
   "outputs": [
    {
     "data": {
      "text/plain": [
       "100000.0    151\n",
       "20000.0     125\n",
       "10000.0     107\n",
       "2000.0       43\n",
       "50000.0      32\n",
       "Name: Price, dtype: int64"
      ]
     },
     "execution_count": 19,
     "metadata": {},
     "output_type": "execute_result"
    }
   ],
   "source": [
    "bs_df['Price'].value_counts()"
   ]
  },
  {
   "cell_type": "code",
   "execution_count": 20,
   "metadata": {},
   "outputs": [],
   "source": [
    "from sklearn.model_selection import train_test_split"
   ]
  },
  {
   "cell_type": "code",
   "execution_count": 21,
   "metadata": {},
   "outputs": [],
   "source": [
    "bs_train, bs_test = train_test_split(bs_df, test_size=0.1, random_state=42)"
   ]
  },
  {
   "cell_type": "code",
   "execution_count": 22,
   "metadata": {},
   "outputs": [
    {
     "name": "stdout",
     "output_type": "stream",
     "text": [
      "100000.0    133\n",
      "20000.0     112\n",
      "10000.0      97\n",
      "2000.0       39\n",
      "50000.0      31\n",
      "Name: Price, dtype: int64\n",
      "412\n"
     ]
    }
   ],
   "source": [
    "print(bs_train['Price'].value_counts())\n",
    "print(len(bs_train))"
   ]
  },
  {
   "cell_type": "code",
   "execution_count": 23,
   "metadata": {},
   "outputs": [
    {
     "name": "stdout",
     "output_type": "stream",
     "text": [
      "100000.0    18\n",
      "20000.0     13\n",
      "10000.0     10\n",
      "2000.0       4\n",
      "50000.0      1\n",
      "Name: Price, dtype: int64\n",
      "46\n"
     ]
    }
   ],
   "source": [
    "print(bs_test['Price'].value_counts())\n",
    "print(len(bs_test))"
   ]
  },
  {
   "cell_type": "code",
   "execution_count": 24,
   "metadata": {},
   "outputs": [
    {
     "name": "stdout",
     "output_type": "stream",
     "text": [
      "<class 'pandas.core.frame.DataFrame'>\n",
      "Int64Index: 46 entries, 269 to 38\n",
      "Data columns (total 11 columns):\n",
      "Price              46 non-null float64\n",
      "Common (C/W)       46 non-null float64\n",
      "Uncommon (C/W)     46 non-null float64\n",
      "Rare Mod           46 non-null float64\n",
      "1 Level booster    46 non-null float64\n",
      "2 Level booster    46 non-null float64\n",
      "3 Level booster    46 non-null float64\n",
      "4 Level booster    46 non-null float64\n",
      "N. Consumbales     46 non-null float64\n",
      "R/UR Weap.         46 non-null float64\n",
      "R/UR Char.         46 non-null float64\n",
      "dtypes: float64(11)\n",
      "memory usage: 4.3 KB\n"
     ]
    }
   ],
   "source": [
    "bs_test.info()"
   ]
  },
  {
   "cell_type": "code",
   "execution_count": 25,
   "metadata": {},
   "outputs": [
    {
     "name": "stderr",
     "output_type": "stream",
     "text": [
      "/Users/perdue/miniconda3/envs/py3tf17/lib/python3.6/site-packages/ipykernel_launcher.py:3: SettingWithCopyWarning: \n",
      "A value is trying to be set on a copy of a slice from a DataFrame\n",
      "\n",
      "See the caveats in the documentation: http://pandas.pydata.org/pandas-docs/stable/indexing.html#indexing-view-versus-copy\n",
      "  This is separate from the ipykernel package so we can avoid doing imports until\n",
      "/Users/perdue/miniconda3/envs/py3tf17/lib/python3.6/site-packages/ipykernel_launcher.py:4: SettingWithCopyWarning: \n",
      "A value is trying to be set on a copy of a slice from a DataFrame\n",
      "\n",
      "See the caveats in the documentation: http://pandas.pydata.org/pandas-docs/stable/indexing.html#indexing-view-versus-copy\n",
      "  after removing the cwd from sys.path.\n"
     ]
    }
   ],
   "source": [
    "bs_target_train = bs_train['Price']\n",
    "bs_target_test = bs_test['Price']\n",
    "bs_train.drop(columns='Price', inplace=True)\n",
    "bs_test.drop(columns='Price', inplace=True)"
   ]
  },
  {
   "cell_type": "code",
   "execution_count": 26,
   "metadata": {},
   "outputs": [],
   "source": [
    "from sklearn.svm import SVR\n",
    "from sklearn.metrics import mean_squared_error"
   ]
  },
  {
   "cell_type": "code",
   "execution_count": 27,
   "metadata": {},
   "outputs": [
    {
     "data": {
      "text/plain": [
       "SVR(C=1.0, cache_size=200, coef0=0.0, degree=3, epsilon=0.1, gamma='auto',\n",
       "  kernel='linear', max_iter=-1, shrinking=True, tol=0.001, verbose=False)"
      ]
     },
     "execution_count": 27,
     "metadata": {},
     "output_type": "execute_result"
    }
   ],
   "source": [
    "support_vector_regressor = SVR(kernel='linear')\n",
    "support_vector_regressor.fit(bs_train, bs_target_train)"
   ]
  },
  {
   "cell_type": "code",
   "execution_count": 28,
   "metadata": {},
   "outputs": [
    {
     "name": "stdout",
     "output_type": "stream",
     "text": [
      "49910.08591007739\n"
     ]
    }
   ],
   "source": [
    "test_set_predictions = support_vector_regressor.predict(bs_test)\n",
    "lin_mse = mean_squared_error(test_set_predictions, bs_target_test)\n",
    "lin_rmse = np.sqrt(lin_mse)\n",
    "print(lin_rmse)"
   ]
  },
  {
   "cell_type": "code",
   "execution_count": 29,
   "metadata": {},
   "outputs": [
    {
     "data": {
      "text/plain": [
       "[(21351.07123241845, 100000.0),\n",
       " (21168.834510832166, 100000.0),\n",
       " (20176.61047647473, 10000.0),\n",
       " (20528.361225872577, 20000.0),\n",
       " (20176.691962178687, 20000.0),\n",
       " (20000.100237319468, 20000.0),\n",
       " (19649.194093826314, 20000.0),\n",
       " (20990.716229145513, 100000.0),\n",
       " (21137.716229145513, 100000.0),\n",
       " (20814.47950755923, 100000.0)]"
      ]
     },
     "execution_count": 29,
     "metadata": {},
     "output_type": "execute_result"
    }
   ],
   "source": [
    "list(zip(test_set_predictions[:10], bs_target_test[:10]))"
   ]
  },
  {
   "cell_type": "code",
   "execution_count": 30,
   "metadata": {},
   "outputs": [
    {
     "data": {
      "image/png": "[encoded data removed]",
      "text/plain": [
       "<Figure size 864x288 with 3 Axes>"
      ]
     },
     "metadata": {},
     "output_type": "display_data"
    }
   ],
   "source": [
    "fig = plt.figure(figsize=(12,4))\n",
    "gs = plt.GridSpec(1, 3)\n",
    "\n",
    "ax = plt.subplot(gs[0])\n",
    "n, bins, patches = plt.hist(test_set_predictions)\n",
    "plt.title('Test set predictions')\n",
    "plt.xlabel('Predicted prices')\n",
    "\n",
    "ax = plt.subplot(gs[1])\n",
    "n, bins, patches = plt.hist(bs_target_test)\n",
    "plt.title('Test values')\n",
    "plt.xlabel('True prices')\n",
    "\n",
    "ax = plt.subplot(gs[2])\n",
    "plt.scatter(bs_target_test, test_set_predictions)\n",
    "plt.xlabel('True prices')\n",
    "plt.ylabel('Predicted prices')\n",
    "plt.title('Predicted v. true')\n",
    "\n",
    "plt.tight_layout()"
   ]
  },
  {
   "cell_type": "markdown",
   "metadata": {},
   "source": [
    "The SVR does a terrible job with high-priced packs..."
   ]
  },
  {
   "cell_type": "code",
   "execution_count": 31,
   "metadata": {},
   "outputs": [],
   "source": [
    "from sklearn.linear_model import LinearRegression"
   ]
  },
  {
   "cell_type": "code",
   "execution_count": 32,
   "metadata": {},
   "outputs": [
    {
     "data": {
      "text/plain": [
       "LinearRegression(copy_X=True, fit_intercept=True, n_jobs=1, normalize=False)"
      ]
     },
     "execution_count": 32,
     "metadata": {},
     "output_type": "execute_result"
    }
   ],
   "source": [
    "lin_reg = LinearRegression()\n",
    "lin_reg.fit(bs_train, bs_target_train)"
   ]
  },
  {
   "cell_type": "code",
   "execution_count": 33,
   "metadata": {},
   "outputs": [
    {
     "name": "stdout",
     "output_type": "stream",
     "text": [
      "4959.088681363016\n"
     ]
    }
   ],
   "source": [
    "test_set_predictions = lin_reg.predict(bs_test)\n",
    "lin_mse = mean_squared_error(test_set_predictions, bs_target_test)\n",
    "lin_rmse = np.sqrt(lin_mse)\n",
    "print(lin_rmse)"
   ]
  },
  {
   "cell_type": "code",
   "execution_count": 34,
   "metadata": {},
   "outputs": [
    {
     "data": {
      "text/plain": [
       "[(106123.3367831121, 100000.0),\n",
       " (96458.38078095086, 100000.0),\n",
       " (9476.68050084991, 10000.0),\n",
       " (16668.93136068061, 20000.0),\n",
       " (20947.454146753378, 20000.0),\n",
       " (12428.153039248773, 20000.0),\n",
       " (12125.393254721292, 20000.0),\n",
       " (96627.01125102982, 100000.0),\n",
       " (99865.12129920606, 100000.0),\n",
       " (87446.73826358802, 100000.0)]"
      ]
     },
     "execution_count": 34,
     "metadata": {},
     "output_type": "execute_result"
    }
   ],
   "source": [
    "list(zip(test_set_predictions[:10], bs_target_test[:10]))"
   ]
  },
  {
   "cell_type": "code",
   "execution_count": 35,
   "metadata": {},
   "outputs": [
    {
     "data": {
      "image/png": "[encoded data removed]",
      "text/plain": [
       "<Figure size 864x288 with 3 Axes>"
      ]
     },
     "metadata": {},
     "output_type": "display_data"
    }
   ],
   "source": [
    "fig = plt.figure(figsize=(12,4))\n",
    "gs = plt.GridSpec(1, 3)\n",
    "\n",
    "ax = plt.subplot(gs[0])\n",
    "n, bins, patches = plt.hist(test_set_predictions)\n",
    "plt.title('Test set predictions')\n",
    "plt.xlabel('Predicted prices')\n",
    "\n",
    "ax = plt.subplot(gs[1])\n",
    "n, bins, patches = plt.hist(bs_target_test)\n",
    "plt.title('Test values')\n",
    "plt.xlabel('True prices')\n",
    "\n",
    "ax = plt.subplot(gs[2])\n",
    "plt.scatter(bs_target_test, test_set_predictions)\n",
    "plt.xlabel('True prices')\n",
    "plt.ylabel('Predicted prices')\n",
    "plt.title('Predicted v. true')\n",
    "\n",
    "plt.tight_layout()"
   ]
  },
  {
   "cell_type": "code",
   "execution_count": 36,
   "metadata": {},
   "outputs": [
    {
     "name": "stdout",
     "output_type": "stream",
     "text": [
      "('Common (C/W)', 2997.6739165573645)\n",
      "('Uncommon (C/W)', 8939.83685582291)\n",
      "('Rare Mod', 8175.030765546009)\n",
      "('1 Level booster', 183.21896650982865)\n",
      "('2 Level booster', 420.53574831830133)\n",
      "('3 Level booster', 4595.87106703113)\n",
      "('4 Level booster', 6678.751232224347)\n",
      "('N. Consumbales', 355.0927455992937)\n",
      "('R/UR Weap.', 44106.29837693744)\n",
      "('R/UR Char.', 40868.18832876119)\n"
     ]
    }
   ],
   "source": [
    "for x in zip(list(bs_train), lin_reg.coef_):\n",
    "    print(x)"
   ]
  },
  {
   "cell_type": "code",
   "execution_count": null,
   "metadata": {},
   "outputs": [],
   "source": []
  }
 ],
 "metadata": {
  "kernelspec": {
   "display_name": "Python 3",
   "language": "python",
   "name": "python3"
  },
  "language_info": {
   "codemirror_mode": {
    "name": "ipython",
    "version": 3
   },
   "file_extension": ".py",
   "mimetype": "text/x-python",
   "name": "python",
   "nbconvert_exporter": "python",
   "pygments_lexer": "ipython3",
   "version": "3.6.5"
  }
 },
 "nbformat": 4,
 "nbformat_minor": 2
}
