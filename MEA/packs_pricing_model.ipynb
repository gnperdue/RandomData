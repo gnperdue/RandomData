{
 "cells": [
  {
   "cell_type": "markdown",
   "metadata": {},
   "source": [
    "# Pricing Model"
   ]
  },
  {
   "cell_type": "code",
   "execution_count": 1,
   "metadata": {},
   "outputs": [],
   "source": [
    "import pandas as pd\n",
    "import numpy as np\n",
    "import pack_utils\n",
    "import matplotlib.pyplot as plt\n",
    "\n",
    "%matplotlib inline"
   ]
  },
  {
   "cell_type": "code",
   "execution_count": 2,
   "metadata": {},
   "outputs": [],
   "source": [
    "pm_starter = pack_utils.make_pricing_model_starter(pack_utils.LIST_OF_CSVS)"
   ]
  },
  {
   "cell_type": "code",
   "execution_count": 3,
   "metadata": {},
   "outputs": [
    {
     "data": {
      "text/plain": [
       "Advanced          104\n",
       "Jumbo Supply      102\n",
       "Reserves           99\n",
       "Arsenal            80\n",
       "Ammo Priming       64\n",
       "Supply             61\n",
       "Premium            55\n",
       "Technical Mods     43\n",
       "Expert             32\n",
       "Name: Pack, dtype: int64"
      ]
     },
     "execution_count": 3,
     "metadata": {},
     "output_type": "execute_result"
    }
   ],
   "source": [
    "pm_starter['Pack'].value_counts()"
   ]
  },
  {
   "cell_type": "code",
   "execution_count": 4,
   "metadata": {},
   "outputs": [
    {
     "name": "stdout",
     "output_type": "stream",
     "text": [
      "<class 'pandas.core.frame.DataFrame'>\n",
      "Int64Index: 640 entries, 2 to 618\n",
      "Data columns (total 14 columns):\n",
      "Pack               640 non-null object\n",
      "Price              640 non-null float64\n",
      "Common (C/W)       640 non-null float64\n",
      "Uncommon (C/W)     640 non-null float64\n",
      "Rare Mod           640 non-null float64\n",
      "Rare Weap.         640 non-null float64\n",
      "Rare Char.         640 non-null float64\n",
      "UR Weap.           640 non-null float64\n",
      "UR Char.           640 non-null float64\n",
      "1 Level booster    640 non-null float64\n",
      "2 Level booster    640 non-null float64\n",
      "3 Level booster    640 non-null float64\n",
      "4 Level booster    640 non-null float64\n",
      "N. Consumbales     640 non-null float64\n",
      "dtypes: float64(13), object(1)\n",
      "memory usage: 75.0+ KB\n"
     ]
    }
   ],
   "source": [
    "pm_starter.info()"
   ]
  },
  {
   "cell_type": "markdown",
   "metadata": {},
   "source": [
    "## UR True Credits Cost"
   ]
  },
  {
   "cell_type": "code",
   "execution_count": 5,
   "metadata": {},
   "outputs": [],
   "source": [
    "sp_df = pack_utils.get_support_packs_df(pm_starter)"
   ]
  },
  {
   "cell_type": "code",
   "execution_count": 6,
   "metadata": {},
   "outputs": [
    {
     "data": {
      "text/plain": [
       "Jumbo Supply    102\n",
       "Ammo Priming     64\n",
       "Supply           61\n",
       "Name: Pack, dtype: int64"
      ]
     },
     "execution_count": 6,
     "metadata": {},
     "output_type": "execute_result"
    }
   ],
   "source": [
    "sp_df['Pack'].value_counts()"
   ]
  },
  {
   "cell_type": "code",
   "execution_count": 7,
   "metadata": {},
   "outputs": [
    {
     "data": {
      "text/plain": [
       "10000.0    166\n",
       "2000.0      61\n",
       "Name: Price, dtype: int64"
      ]
     },
     "execution_count": 7,
     "metadata": {},
     "output_type": "execute_result"
    }
   ],
   "source": [
    "sp_df['Price'].value_counts()"
   ]
  },
  {
   "cell_type": "code",
   "execution_count": 8,
   "metadata": {},
   "outputs": [
    {
     "name": "stdout",
     "output_type": "stream",
     "text": [
      "1782000.0\n"
     ]
    }
   ],
   "source": [
    "support_cost = np.sum(sp_df['Price'])\n",
    "print(support_cost)"
   ]
  },
  {
   "cell_type": "code",
   "execution_count": 9,
   "metadata": {},
   "outputs": [],
   "source": [
    "ur_df = pack_utils.get_ur_packs_df(pm_starter)"
   ]
  },
  {
   "cell_type": "code",
   "execution_count": 10,
   "metadata": {},
   "outputs": [
    {
     "data": {
      "text/plain": [
       "Reserves    99\n",
       "Arsenal     80\n",
       "Premium     55\n",
       "Expert      32\n",
       "Name: Pack, dtype: int64"
      ]
     },
     "execution_count": 10,
     "metadata": {},
     "output_type": "execute_result"
    }
   ],
   "source": [
    "ur_df['Pack'].value_counts()"
   ]
  },
  {
   "cell_type": "code",
   "execution_count": 11,
   "metadata": {},
   "outputs": [
    {
     "data": {
      "text/plain": [
       "100000.0    234\n",
       "50000.0      32\n",
       "Name: Price, dtype: int64"
      ]
     },
     "execution_count": 11,
     "metadata": {},
     "output_type": "execute_result"
    }
   ],
   "source": [
    "ur_df['Price'].value_counts()"
   ]
  },
  {
   "cell_type": "code",
   "execution_count": 12,
   "metadata": {},
   "outputs": [
    {
     "name": "stdout",
     "output_type": "stream",
     "text": [
      "25000000.0\n"
     ]
    }
   ],
   "source": [
    "ur_pack_cost = np.sum(ur_df['Price'])\n",
    "print(ur_pack_cost)"
   ]
  },
  {
   "cell_type": "code",
   "execution_count": 13,
   "metadata": {},
   "outputs": [
    {
     "name": "stdout",
     "output_type": "stream",
     "text": [
      "Number of total URs = 65.0\n"
     ]
    }
   ],
   "source": [
    "n_ur_char, n_ur_weap = pack_utils.get_ur_counts(ur_df)\n",
    "n_ur_tot = n_ur_weap + n_ur_char\n",
    "print('Number of total URs =', n_ur_tot)"
   ]
  },
  {
   "cell_type": "code",
   "execution_count": 14,
   "metadata": {},
   "outputs": [
    {
     "name": "stdout",
     "output_type": "stream",
     "text": [
      "412030.76923076925\n"
     ]
    }
   ],
   "source": [
    "creds_per_ur = (ur_pack_cost + support_cost) / n_ur_tot\n",
    "print(creds_per_ur)"
   ]
  },
  {
   "cell_type": "markdown",
   "metadata": {},
   "source": [
    "## Boosters and Consumables Prices"
   ]
  },
  {
   "cell_type": "markdown",
   "metadata": {},
   "source": [
    "### Global (over all packs)"
   ]
  },
  {
   "cell_type": "code",
   "execution_count": 15,
   "metadata": {},
   "outputs": [],
   "source": [
    "bs_df = pm_starter.copy()\n",
    "bs_df = bs_df.drop(columns=['Pack'])"
   ]
  },
  {
   "cell_type": "markdown",
   "metadata": {},
   "source": [
    "Here, URs are confusing because their true value is not reflected in their appearance."
   ]
  },
  {
   "cell_type": "code",
   "execution_count": 16,
   "metadata": {},
   "outputs": [
    {
     "data": {
      "text/plain": [
       "['Price',\n",
       " 'Common (C/W)',\n",
       " 'Uncommon (C/W)',\n",
       " 'Rare Mod',\n",
       " 'Rare Weap.',\n",
       " 'Rare Char.',\n",
       " 'UR Weap.',\n",
       " 'UR Char.',\n",
       " '1 Level booster',\n",
       " '2 Level booster',\n",
       " '3 Level booster',\n",
       " '4 Level booster',\n",
       " 'N. Consumbales']"
      ]
     },
     "execution_count": 16,
     "metadata": {},
     "output_type": "execute_result"
    }
   ],
   "source": [
    "list(bs_df)"
   ]
  },
  {
   "cell_type": "code",
   "execution_count": 17,
   "metadata": {},
   "outputs": [],
   "source": [
    "bs_df['R/UR Weap.'] = bs_df['Rare Weap.'] + bs_df['UR Weap.']\n",
    "bs_df['R/UR Char.'] = bs_df['Rare Char.'] + bs_df['UR Char.']"
   ]
  },
  {
   "cell_type": "code",
   "execution_count": 18,
   "metadata": {},
   "outputs": [
    {
     "name": "stdout",
     "output_type": "stream",
     "text": [
      "['Price', 'Common (C/W)', 'Uncommon (C/W)', 'Rare Mod', '1 Level booster', '2 Level booster', '3 Level booster', '4 Level booster', 'N. Consumbales', 'R/UR Weap.', 'R/UR Char.']\n"
     ]
    }
   ],
   "source": [
    "bs_df = bs_df.drop(columns=['Rare Weap.', 'Rare Char.', 'UR Weap.', 'UR Char.'])\n",
    "print(list(bs_df))"
   ]
  },
  {
   "cell_type": "code",
   "execution_count": 19,
   "metadata": {},
   "outputs": [
    {
     "data": {
      "text/plain": [
       "100000.0    234\n",
       "10000.0     166\n",
       "20000.0     147\n",
       "2000.0       61\n",
       "50000.0      32\n",
       "Name: Price, dtype: int64"
      ]
     },
     "execution_count": 19,
     "metadata": {},
     "output_type": "execute_result"
    }
   ],
   "source": [
    "bs_df['Price'].value_counts()"
   ]
  },
  {
   "cell_type": "code",
   "execution_count": 20,
   "metadata": {},
   "outputs": [],
   "source": [
    "from sklearn.model_selection import train_test_split"
   ]
  },
  {
   "cell_type": "code",
   "execution_count": 21,
   "metadata": {},
   "outputs": [],
   "source": [
    "bs_train, bs_test = train_test_split(bs_df, test_size=0.1, random_state=42)"
   ]
  },
  {
   "cell_type": "code",
   "execution_count": 22,
   "metadata": {},
   "outputs": [
    {
     "name": "stdout",
     "output_type": "stream",
     "text": [
      "100000.0    208\n",
      "10000.0     152\n",
      "20000.0     131\n",
      "2000.0       57\n",
      "50000.0      28\n",
      "Name: Price, dtype: int64\n",
      "576\n"
     ]
    }
   ],
   "source": [
    "print(bs_train['Price'].value_counts())\n",
    "print(len(bs_train))"
   ]
  },
  {
   "cell_type": "code",
   "execution_count": 23,
   "metadata": {},
   "outputs": [
    {
     "name": "stdout",
     "output_type": "stream",
     "text": [
      "100000.0    26\n",
      "20000.0     16\n",
      "10000.0     14\n",
      "50000.0      4\n",
      "2000.0       4\n",
      "Name: Price, dtype: int64\n",
      "64\n"
     ]
    }
   ],
   "source": [
    "print(bs_test['Price'].value_counts())\n",
    "print(len(bs_test))"
   ]
  },
  {
   "cell_type": "code",
   "execution_count": 24,
   "metadata": {},
   "outputs": [
    {
     "name": "stdout",
     "output_type": "stream",
     "text": [
      "<class 'pandas.core.frame.DataFrame'>\n",
      "Int64Index: 64 entries, 547 to 97\n",
      "Data columns (total 11 columns):\n",
      "Price              64 non-null float64\n",
      "Common (C/W)       64 non-null float64\n",
      "Uncommon (C/W)     64 non-null float64\n",
      "Rare Mod           64 non-null float64\n",
      "1 Level booster    64 non-null float64\n",
      "2 Level booster    64 non-null float64\n",
      "3 Level booster    64 non-null float64\n",
      "4 Level booster    64 non-null float64\n",
      "N. Consumbales     64 non-null float64\n",
      "R/UR Weap.         64 non-null float64\n",
      "R/UR Char.         64 non-null float64\n",
      "dtypes: float64(11)\n",
      "memory usage: 6.0 KB\n"
     ]
    }
   ],
   "source": [
    "bs_test.info()"
   ]
  },
  {
   "cell_type": "code",
   "execution_count": 25,
   "metadata": {},
   "outputs": [
    {
     "name": "stderr",
     "output_type": "stream",
     "text": [
      "/Users/perdue/miniconda3/envs/py3a/lib/python3.6/site-packages/pandas/core/frame.py:3697: SettingWithCopyWarning: \n",
      "A value is trying to be set on a copy of a slice from a DataFrame\n",
      "\n",
      "See the caveats in the documentation: http://pandas.pydata.org/pandas-docs/stable/indexing.html#indexing-view-versus-copy\n",
      "  errors=errors)\n"
     ]
    }
   ],
   "source": [
    "bs_target_train = bs_train['Price']\n",
    "bs_target_test = bs_test['Price']\n",
    "bs_train.drop(columns='Price', inplace=True)\n",
    "bs_test.drop(columns='Price', inplace=True)"
   ]
  },
  {
   "cell_type": "code",
   "execution_count": 26,
   "metadata": {},
   "outputs": [],
   "source": [
    "from sklearn.svm import SVR\n",
    "from sklearn.metrics import mean_squared_error"
   ]
  },
  {
   "cell_type": "code",
   "execution_count": 27,
   "metadata": {},
   "outputs": [
    {
     "data": {
      "text/plain": [
       "SVR(C=1.0, cache_size=200, coef0=0.0, degree=3, epsilon=0.1,\n",
       "  gamma='auto_deprecated', kernel='linear', max_iter=-1, shrinking=True,\n",
       "  tol=0.001, verbose=False)"
      ]
     },
     "execution_count": 27,
     "metadata": {},
     "output_type": "execute_result"
    }
   ],
   "source": [
    "support_vector_regressor = SVR(kernel='linear')\n",
    "support_vector_regressor.fit(bs_train, bs_target_train)"
   ]
  },
  {
   "cell_type": "code",
   "execution_count": 28,
   "metadata": {},
   "outputs": [
    {
     "name": "stdout",
     "output_type": "stream",
     "text": [
      "50787.60301165205\n"
     ]
    }
   ],
   "source": [
    "test_set_predictions = support_vector_regressor.predict(bs_test)\n",
    "lin_mse = mean_squared_error(test_set_predictions, bs_target_test)\n",
    "lin_rmse = np.sqrt(lin_mse)\n",
    "print(lin_rmse)"
   ]
  },
  {
   "cell_type": "code",
   "execution_count": 29,
   "metadata": {},
   "outputs": [
    {
     "data": {
      "text/plain": [
       "[(22012.518079096044, 100000.0),\n",
       " (21318.22994350282, 100000.0),\n",
       " (21058.388135593217, 100000.0),\n",
       " (21619.6593220339, 100000.0),\n",
       " (20364.958757062144, 20000.0),\n",
       " (10000.099999999999, 10000.0),\n",
       " (20364.958757062144, 20000.0),\n",
       " (20695.947457627117, 20000.0),\n",
       " (10000.099999999999, 10000.0),\n",
       " (21058.388135593217, 100000.0)]"
      ]
     },
     "execution_count": 29,
     "metadata": {},
     "output_type": "execute_result"
    }
   ],
   "source": [
    "list(zip(test_set_predictions[:10], bs_target_test[:10]))"
   ]
  },
  {
   "cell_type": "code",
   "execution_count": 30,
   "metadata": {},
   "outputs": [
    {
     "data": {
      "image/png": "[encoded data removed]",
      "text/plain": [
       "<Figure size 864x288 with 3 Axes>"
      ]
     },
     "metadata": {
      "needs_background": "light"
     },
     "output_type": "display_data"
    }
   ],
   "source": [
    "fig = plt.figure(figsize=(12,4))\n",
    "gs = plt.GridSpec(1, 3)\n",
    "\n",
    "ax = plt.subplot(gs[0])\n",
    "n, bins, patches = plt.hist(test_set_predictions)\n",
    "plt.title('Test set predictions')\n",
    "plt.xlabel('Predicted prices')\n",
    "\n",
    "ax = plt.subplot(gs[1])\n",
    "n, bins, patches = plt.hist(bs_target_test)\n",
    "plt.title('Test values')\n",
    "plt.xlabel('True prices')\n",
    "\n",
    "ax = plt.subplot(gs[2])\n",
    "plt.scatter(bs_target_test, test_set_predictions)\n",
    "plt.xlabel('True prices')\n",
    "plt.ylabel('Predicted prices')\n",
    "plt.title('Predicted v. true')\n",
    "\n",
    "plt.tight_layout()"
   ]
  },
  {
   "cell_type": "markdown",
   "metadata": {},
   "source": [
    "The SVR does a terrible job with high-priced packs..."
   ]
  },
  {
   "cell_type": "code",
   "execution_count": 31,
   "metadata": {},
   "outputs": [],
   "source": [
    "from sklearn.linear_model import LinearRegression"
   ]
  },
  {
   "cell_type": "code",
   "execution_count": 32,
   "metadata": {},
   "outputs": [
    {
     "data": {
      "text/plain": [
       "LinearRegression(copy_X=True, fit_intercept=True, n_jobs=None,\n",
       "         normalize=False)"
      ]
     },
     "execution_count": 32,
     "metadata": {},
     "output_type": "execute_result"
    }
   ],
   "source": [
    "lin_reg = LinearRegression()\n",
    "lin_reg.fit(bs_train, bs_target_train)"
   ]
  },
  {
   "cell_type": "code",
   "execution_count": 33,
   "metadata": {},
   "outputs": [
    {
     "name": "stdout",
     "output_type": "stream",
     "text": [
      "7095.320530317366\n"
     ]
    }
   ],
   "source": [
    "test_set_predictions = lin_reg.predict(bs_test)\n",
    "lin_mse = mean_squared_error(test_set_predictions, bs_target_test)\n",
    "lin_rmse = np.sqrt(lin_mse)\n",
    "print(lin_rmse)"
   ]
  },
  {
   "cell_type": "code",
   "execution_count": 34,
   "metadata": {},
   "outputs": [
    {
     "data": {
      "text/plain": [
       "[(100711.0185177703, 100000.0),\n",
       " (97458.56460337553, 100000.0),\n",
       " (92208.65743978684, 100000.0),\n",
       " (96122.06602108809, 100000.0),\n",
       " (15700.30947796754, 20000.0),\n",
       " (9942.959383222627, 10000.0),\n",
       " (15700.30947796754, 20000.0),\n",
       " (20973.958950023018, 20000.0),\n",
       " (9942.959383222627, 10000.0),\n",
       " (92208.65743978684, 100000.0)]"
      ]
     },
     "execution_count": 34,
     "metadata": {},
     "output_type": "execute_result"
    }
   ],
   "source": [
    "list(zip(test_set_predictions[:10], bs_target_test[:10]))"
   ]
  },
  {
   "cell_type": "code",
   "execution_count": 35,
   "metadata": {},
   "outputs": [
    {
     "data": {
      "image/png": "[encoded data removed]",
      "text/plain": [
       "<Figure size 864x288 with 3 Axes>"
      ]
     },
     "metadata": {
      "needs_background": "light"
     },
     "output_type": "display_data"
    }
   ],
   "source": [
    "fig = plt.figure(figsize=(12,4))\n",
    "gs = plt.GridSpec(1, 3)\n",
    "\n",
    "ax = plt.subplot(gs[0])\n",
    "n, bins, patches = plt.hist(test_set_predictions)\n",
    "plt.title('Test set predictions')\n",
    "plt.xlabel('Predicted prices')\n",
    "\n",
    "ax = plt.subplot(gs[1])\n",
    "n, bins, patches = plt.hist(bs_target_test)\n",
    "plt.title('Test values')\n",
    "plt.xlabel('True prices')\n",
    "\n",
    "ax = plt.subplot(gs[2])\n",
    "plt.scatter(bs_target_test, test_set_predictions)\n",
    "plt.xlabel('True prices')\n",
    "plt.ylabel('Predicted prices')\n",
    "plt.title('Predicted v. true')\n",
    "\n",
    "plt.tight_layout()"
   ]
  },
  {
   "cell_type": "code",
   "execution_count": 36,
   "metadata": {},
   "outputs": [
    {
     "name": "stdout",
     "output_type": "stream",
     "text": [
      "('Common (C/W)', 2943.38340895496)\n",
      "('Uncommon (C/W)', 8318.535186278086)\n",
      "('Rare Mod', 7985.740174325724)\n",
      "('1 Level booster', 1059.4027411490222)\n",
      "('2 Level booster', 444.8989625089199)\n",
      "('3 Level booster', 4008.848518336437)\n",
      "('4 Level booster', 5033.851459191133)\n",
      "('N. Consumbales', 95.43993703519004)\n",
      "('R/UR Weap.', 44417.865833216914)\n",
      "('R/UR Char.', 41444.67774756271)\n"
     ]
    }
   ],
   "source": [
    "for x in zip(list(bs_train), lin_reg.coef_):\n",
    "    print(x)"
   ]
  },
  {
   "cell_type": "code",
   "execution_count": null,
   "metadata": {},
   "outputs": [],
   "source": []
  }
 ],
 "metadata": {
  "kernelspec": {
   "display_name": "Python 3",
   "language": "python",
   "name": "python3"
  },
  "language_info": {
   "codemirror_mode": {
    "name": "ipython",
    "version": 3
   },
   "file_extension": ".py",
   "mimetype": "text/x-python",
   "name": "python",
   "nbconvert_exporter": "python",
   "pygments_lexer": "ipython3",
   "version": "3.6.7"
  }
 },
 "nbformat": 4,
 "nbformat_minor": 2
}
