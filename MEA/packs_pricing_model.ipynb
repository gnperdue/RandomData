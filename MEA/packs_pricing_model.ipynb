{
 "cells": [
  {
   "cell_type": "markdown",
   "metadata": {},
   "source": [
    "# Pricing Model"
   ]
  },
  {
   "cell_type": "code",
   "execution_count": 1,
   "metadata": {},
   "outputs": [],
   "source": [
    "import pandas as pd\n",
    "import numpy as np\n",
    "import pack_utils\n",
    "import matplotlib.pyplot as plt\n",
    "\n",
    "%matplotlib inline"
   ]
  },
  {
   "cell_type": "code",
   "execution_count": 2,
   "metadata": {},
   "outputs": [],
   "source": [
    "pm_starter = pack_utils.make_pricing_model_starter(pack_utils.LIST_OF_CSVS)"
   ]
  },
  {
   "cell_type": "code",
   "execution_count": 3,
   "metadata": {},
   "outputs": [
    {
     "data": {
      "text/plain": [
       "Advanced          104\n",
       "Reserves           79\n",
       "Jumbo Supply       53\n",
       "Expert             32\n",
       "Premium            31\n",
       "Supply             27\n",
       "Ammo Priming       27\n",
       "Technical Mods      5\n",
       "Arsenal             3\n",
       "Name: Pack, dtype: int64"
      ]
     },
     "execution_count": 3,
     "metadata": {},
     "output_type": "execute_result"
    }
   ],
   "source": [
    "pm_starter['Pack'].value_counts()"
   ]
  },
  {
   "cell_type": "code",
   "execution_count": 4,
   "metadata": {},
   "outputs": [
    {
     "name": "stdout",
     "output_type": "stream",
     "text": [
      "<class 'pandas.core.frame.DataFrame'>\n",
      "Int64Index: 361 entries, 2 to 326\n",
      "Data columns (total 15 columns):\n",
      "Pack               361 non-null object\n",
      "AP/Creds           361 non-null object\n",
      "Price              361 non-null float64\n",
      "Common (C/W)       361 non-null int64\n",
      "Uncommon (C/W)     361 non-null int64\n",
      "Rare Mod           361 non-null int64\n",
      "Rare Weap.         361 non-null int64\n",
      "Rare Char.         361 non-null int64\n",
      "UR Weap.           361 non-null int64\n",
      "UR Char.           361 non-null int64\n",
      "1 Level booster    361 non-null int64\n",
      "2 Level booster    361 non-null int64\n",
      "3 Level booster    361 non-null int64\n",
      "4 Level booster    361 non-null int64\n",
      "N. Consumbales     361 non-null int64\n",
      "dtypes: float64(1), int64(12), object(2)\n",
      "memory usage: 45.1+ KB\n"
     ]
    }
   ],
   "source": [
    "pm_starter.info()"
   ]
  },
  {
   "cell_type": "markdown",
   "metadata": {},
   "source": [
    "## UR True Credits Cost"
   ]
  },
  {
   "cell_type": "code",
   "execution_count": 5,
   "metadata": {},
   "outputs": [],
   "source": [
    "sp_df = pack_utils.get_support_packs_df(pm_starter)"
   ]
  },
  {
   "cell_type": "code",
   "execution_count": 6,
   "metadata": {},
   "outputs": [
    {
     "data": {
      "text/plain": [
       "Jumbo Supply    53\n",
       "Supply          27\n",
       "Ammo Priming    27\n",
       "Name: Pack, dtype: int64"
      ]
     },
     "execution_count": 6,
     "metadata": {},
     "output_type": "execute_result"
    }
   ],
   "source": [
    "sp_df['Pack'].value_counts()"
   ]
  },
  {
   "cell_type": "code",
   "execution_count": 7,
   "metadata": {},
   "outputs": [
    {
     "data": {
      "text/plain": [
       "10000.0    80\n",
       "2000.0     27\n",
       "Name: Price, dtype: int64"
      ]
     },
     "execution_count": 7,
     "metadata": {},
     "output_type": "execute_result"
    }
   ],
   "source": [
    "sp_df['Price'].value_counts()"
   ]
  },
  {
   "cell_type": "code",
   "execution_count": 8,
   "metadata": {},
   "outputs": [
    {
     "name": "stdout",
     "output_type": "stream",
     "text": [
      "854000.0\n"
     ]
    }
   ],
   "source": [
    "support_cost = np.sum(sp_df['Price'])\n",
    "print(support_cost)"
   ]
  },
  {
   "cell_type": "code",
   "execution_count": 9,
   "metadata": {},
   "outputs": [],
   "source": [
    "ur_df = pack_utils.get_ur_packs_df(pm_starter)"
   ]
  },
  {
   "cell_type": "code",
   "execution_count": 10,
   "metadata": {},
   "outputs": [
    {
     "data": {
      "text/plain": [
       "Reserves    79\n",
       "Expert      32\n",
       "Premium     31\n",
       "Arsenal      3\n",
       "Name: Pack, dtype: int64"
      ]
     },
     "execution_count": 10,
     "metadata": {},
     "output_type": "execute_result"
    }
   ],
   "source": [
    "ur_df['Pack'].value_counts()"
   ]
  },
  {
   "cell_type": "code",
   "execution_count": 11,
   "metadata": {},
   "outputs": [
    {
     "data": {
      "text/plain": [
       "100000.0    113\n",
       "50000.0      32\n",
       "Name: Price, dtype: int64"
      ]
     },
     "execution_count": 11,
     "metadata": {},
     "output_type": "execute_result"
    }
   ],
   "source": [
    "ur_df['Price'].value_counts()"
   ]
  },
  {
   "cell_type": "code",
   "execution_count": 12,
   "metadata": {},
   "outputs": [
    {
     "name": "stdout",
     "output_type": "stream",
     "text": [
      "12900000.0\n"
     ]
    }
   ],
   "source": [
    "ur_pack_cost = np.sum(ur_df['Price'])\n",
    "print(ur_pack_cost)"
   ]
  },
  {
   "cell_type": "code",
   "execution_count": 13,
   "metadata": {},
   "outputs": [
    {
     "name": "stdout",
     "output_type": "stream",
     "text": [
      "Number of total URs = 27\n"
     ]
    }
   ],
   "source": [
    "n_ur_char, n_ur_weap = pack_utils.get_ur_counts(ur_df)\n",
    "n_ur_tot = n_ur_weap + n_ur_char\n",
    "print('Number of total URs =', n_ur_tot)"
   ]
  },
  {
   "cell_type": "code",
   "execution_count": 14,
   "metadata": {},
   "outputs": [
    {
     "name": "stdout",
     "output_type": "stream",
     "text": [
      "509407.4074074074\n"
     ]
    }
   ],
   "source": [
    "creds_per_ur = (ur_pack_cost + support_cost) / n_ur_tot\n",
    "print(creds_per_ur)"
   ]
  },
  {
   "cell_type": "markdown",
   "metadata": {},
   "source": [
    "## Boosters and Consumables Prices"
   ]
  },
  {
   "cell_type": "markdown",
   "metadata": {},
   "source": [
    "### Global (over all packs)"
   ]
  },
  {
   "cell_type": "code",
   "execution_count": 15,
   "metadata": {},
   "outputs": [
    {
     "name": "stderr",
     "output_type": "stream",
     "text": [
      "/Users/perdue/Dropbox/Data/RandomData/MEA/pack_utils.py:66: SettingWithCopyWarning: \n",
      "A value is trying to be set on a copy of a slice from a DataFrame\n",
      "\n",
      "See the caveats in the documentation: http://pandas.pydata.org/pandas-docs/stable/indexing.html#indexing-view-versus-copy\n",
      "  new_df['Price'][new_df['AP/Creds'] == 'AP'] *= AP_CREDS_CONV\n"
     ]
    }
   ],
   "source": [
    "bs_df = pack_utils.convert_ap_to_creds(pm_starter)"
   ]
  },
  {
   "cell_type": "code",
   "execution_count": 16,
   "metadata": {},
   "outputs": [],
   "source": [
    "bs_df = bs_df.drop(columns=['Pack', 'AP/Creds'])"
   ]
  },
  {
   "cell_type": "markdown",
   "metadata": {},
   "source": [
    "Here, URs are confusing because their true value is not reflected in their appearance."
   ]
  },
  {
   "cell_type": "code",
   "execution_count": 17,
   "metadata": {},
   "outputs": [
    {
     "data": {
      "text/plain": [
       "['Price',\n",
       " 'Common (C/W)',\n",
       " 'Uncommon (C/W)',\n",
       " 'Rare Mod',\n",
       " 'Rare Weap.',\n",
       " 'Rare Char.',\n",
       " 'UR Weap.',\n",
       " 'UR Char.',\n",
       " '1 Level booster',\n",
       " '2 Level booster',\n",
       " '3 Level booster',\n",
       " '4 Level booster',\n",
       " 'N. Consumbales']"
      ]
     },
     "execution_count": 17,
     "metadata": {},
     "output_type": "execute_result"
    }
   ],
   "source": [
    "list(bs_df)"
   ]
  },
  {
   "cell_type": "code",
   "execution_count": 18,
   "metadata": {},
   "outputs": [],
   "source": [
    "bs_df['R/UR Weap.'] = bs_df['Rare Weap.'] + bs_df['UR Weap.']\n",
    "bs_df['R/UR Char.'] = bs_df['Rare Char.'] + bs_df['UR Char.']"
   ]
  },
  {
   "cell_type": "code",
   "execution_count": 19,
   "metadata": {},
   "outputs": [
    {
     "name": "stdout",
     "output_type": "stream",
     "text": [
      "['Price', 'Common (C/W)', 'Uncommon (C/W)', 'Rare Mod', '1 Level booster', '2 Level booster', '3 Level booster', '4 Level booster', 'N. Consumbales', 'R/UR Weap.', 'R/UR Char.']\n"
     ]
    }
   ],
   "source": [
    "bs_df = bs_df.drop(columns=['Rare Weap.', 'Rare Char.', 'UR Weap.', 'UR Char.'])\n",
    "print(list(bs_df))"
   ]
  },
  {
   "cell_type": "code",
   "execution_count": 20,
   "metadata": {},
   "outputs": [
    {
     "data": {
      "text/plain": [
       "100000.0    113\n",
       "20000.0     109\n",
       "10000.0      80\n",
       "50000.0      32\n",
       "2000.0       27\n",
       "Name: Price, dtype: int64"
      ]
     },
     "execution_count": 20,
     "metadata": {},
     "output_type": "execute_result"
    }
   ],
   "source": [
    "bs_df['Price'].value_counts()"
   ]
  },
  {
   "cell_type": "code",
   "execution_count": 21,
   "metadata": {},
   "outputs": [],
   "source": [
    "from sklearn.model_selection import train_test_split"
   ]
  },
  {
   "cell_type": "code",
   "execution_count": 22,
   "metadata": {},
   "outputs": [],
   "source": [
    "bs_train, bs_test = train_test_split(bs_df, test_size=0.1, random_state=42)"
   ]
  },
  {
   "cell_type": "code",
   "execution_count": 23,
   "metadata": {},
   "outputs": [
    {
     "name": "stdout",
     "output_type": "stream",
     "text": [
      "100000.0    99\n",
      "20000.0     98\n",
      "10000.0     75\n",
      "50000.0     29\n",
      "2000.0      23\n",
      "Name: Price, dtype: int64\n",
      "324\n"
     ]
    }
   ],
   "source": [
    "print(bs_train['Price'].value_counts())\n",
    "print(len(bs_train))"
   ]
  },
  {
   "cell_type": "code",
   "execution_count": 24,
   "metadata": {},
   "outputs": [
    {
     "name": "stdout",
     "output_type": "stream",
     "text": [
      "100000.0    14\n",
      "20000.0     11\n",
      "10000.0      5\n",
      "2000.0       4\n",
      "50000.0      3\n",
      "Name: Price, dtype: int64\n",
      "37\n"
     ]
    }
   ],
   "source": [
    "print(bs_test['Price'].value_counts())\n",
    "print(len(bs_test))"
   ]
  },
  {
   "cell_type": "code",
   "execution_count": 25,
   "metadata": {},
   "outputs": [
    {
     "name": "stdout",
     "output_type": "stream",
     "text": [
      "<class 'pandas.core.frame.DataFrame'>\n",
      "Int64Index: 37 entries, 128 to 26\n",
      "Data columns (total 11 columns):\n",
      "Price              37 non-null float64\n",
      "Common (C/W)       37 non-null int64\n",
      "Uncommon (C/W)     37 non-null int64\n",
      "Rare Mod           37 non-null int64\n",
      "1 Level booster    37 non-null int64\n",
      "2 Level booster    37 non-null int64\n",
      "3 Level booster    37 non-null int64\n",
      "4 Level booster    37 non-null int64\n",
      "N. Consumbales     37 non-null int64\n",
      "R/UR Weap.         37 non-null int64\n",
      "R/UR Char.         37 non-null int64\n",
      "dtypes: float64(1), int64(10)\n",
      "memory usage: 3.5 KB\n"
     ]
    }
   ],
   "source": [
    "bs_test.info()"
   ]
  },
  {
   "cell_type": "code",
   "execution_count": 26,
   "metadata": {},
   "outputs": [
    {
     "name": "stderr",
     "output_type": "stream",
     "text": [
      "/Users/perdue/miniconda3/envs/py3tf16/lib/python3.6/site-packages/ipykernel_launcher.py:3: SettingWithCopyWarning: \n",
      "A value is trying to be set on a copy of a slice from a DataFrame\n",
      "\n",
      "See the caveats in the documentation: http://pandas.pydata.org/pandas-docs/stable/indexing.html#indexing-view-versus-copy\n",
      "  This is separate from the ipykernel package so we can avoid doing imports until\n",
      "/Users/perdue/miniconda3/envs/py3tf16/lib/python3.6/site-packages/ipykernel_launcher.py:4: SettingWithCopyWarning: \n",
      "A value is trying to be set on a copy of a slice from a DataFrame\n",
      "\n",
      "See the caveats in the documentation: http://pandas.pydata.org/pandas-docs/stable/indexing.html#indexing-view-versus-copy\n",
      "  after removing the cwd from sys.path.\n"
     ]
    }
   ],
   "source": [
    "bs_target_train = bs_train['Price']\n",
    "bs_target_test = bs_test['Price']\n",
    "bs_train.drop(columns='Price', inplace=True)\n",
    "bs_test.drop(columns='Price', inplace=True)"
   ]
  },
  {
   "cell_type": "code",
   "execution_count": 27,
   "metadata": {},
   "outputs": [],
   "source": [
    "from sklearn.svm import SVR\n",
    "from sklearn.metrics import mean_squared_error"
   ]
  },
  {
   "cell_type": "code",
   "execution_count": 28,
   "metadata": {},
   "outputs": [
    {
     "data": {
      "text/plain": [
       "SVR(C=1.0, cache_size=200, coef0=0.0, degree=3, epsilon=0.1, gamma='auto',\n",
       "  kernel='linear', max_iter=-1, shrinking=True, tol=0.001, verbose=False)"
      ]
     },
     "execution_count": 28,
     "metadata": {},
     "output_type": "execute_result"
    }
   ],
   "source": [
    "support_vector_regressor = SVR(kernel='linear')\n",
    "support_vector_regressor.fit(bs_train, bs_target_train)"
   ]
  },
  {
   "cell_type": "code",
   "execution_count": 29,
   "metadata": {},
   "outputs": [
    {
     "name": "stdout",
     "output_type": "stream",
     "text": [
      "49728.76128233592\n"
     ]
    }
   ],
   "source": [
    "test_set_predictions = support_vector_regressor.predict(bs_test)\n",
    "lin_mse = mean_squared_error(test_set_predictions, bs_target_test)\n",
    "lin_rmse = np.sqrt(lin_mse)\n",
    "print(lin_rmse)"
   ]
  },
  {
   "cell_type": "code",
   "execution_count": 30,
   "metadata": {},
   "outputs": [
    {
     "data": {
      "text/plain": [
       "[(19639.813450292397, 20000.0),\n",
       " (20986.529824561403, 100000.0),\n",
       " (20641.44795321637, 20000.0),\n",
       " (19086.32222222222, 2000.0),\n",
       " (20844.570760233917, 50000.0),\n",
       " (20437.02105263158, 10000.0),\n",
       " (21131.529824561403, 100000.0),\n",
       " (20999.529824561403, 100000.0),\n",
       " (21131.529824561403, 100000.0),\n",
       " (20912.55029239766, 100000.0)]"
      ]
     },
     "execution_count": 30,
     "metadata": {},
     "output_type": "execute_result"
    }
   ],
   "source": [
    "list(zip(test_set_predictions[:10], bs_target_test[:10]))"
   ]
  },
  {
   "cell_type": "code",
   "execution_count": 31,
   "metadata": {},
   "outputs": [
    {
     "data": {
      "image/png": "[encoded data removed]",
      "text/plain": [
       "<Figure size 864x288 with 3 Axes>"
      ]
     },
     "metadata": {},
     "output_type": "display_data"
    }
   ],
   "source": [
    "fig = plt.figure(figsize=(12,4))\n",
    "gs = plt.GridSpec(1, 3)\n",
    "\n",
    "ax = plt.subplot(gs[0])\n",
    "n, bins, patches = plt.hist(test_set_predictions)\n",
    "plt.title('Test set predictions')\n",
    "plt.xlabel('Predicted prices')\n",
    "\n",
    "ax = plt.subplot(gs[1])\n",
    "n, bins, patches = plt.hist(bs_target_test)\n",
    "plt.title('Test values')\n",
    "plt.xlabel('True prices')\n",
    "\n",
    "ax = plt.subplot(gs[2])\n",
    "plt.scatter(bs_target_test, test_set_predictions)\n",
    "plt.xlabel('True prices')\n",
    "plt.ylabel('Predicted prices')\n",
    "plt.title('Predicted v. true')\n",
    "\n",
    "plt.tight_layout()"
   ]
  },
  {
   "cell_type": "markdown",
   "metadata": {},
   "source": [
    "The SVR does a terrible job with high-priced packs..."
   ]
  },
  {
   "cell_type": "code",
   "execution_count": 32,
   "metadata": {},
   "outputs": [],
   "source": [
    "from sklearn.linear_model import LinearRegression"
   ]
  },
  {
   "cell_type": "code",
   "execution_count": 33,
   "metadata": {},
   "outputs": [
    {
     "data": {
      "text/plain": [
       "LinearRegression(copy_X=True, fit_intercept=True, n_jobs=1, normalize=False)"
      ]
     },
     "execution_count": 33,
     "metadata": {},
     "output_type": "execute_result"
    }
   ],
   "source": [
    "lin_reg = LinearRegression()\n",
    "lin_reg.fit(bs_train, bs_target_train)"
   ]
  },
  {
   "cell_type": "code",
   "execution_count": 34,
   "metadata": {},
   "outputs": [
    {
     "name": "stdout",
     "output_type": "stream",
     "text": [
      "6925.006751963465\n"
     ]
    }
   ],
   "source": [
    "test_set_predictions = lin_reg.predict(bs_test)\n",
    "lin_mse = mean_squared_error(test_set_predictions, bs_target_test)\n",
    "lin_rmse = np.sqrt(lin_mse)\n",
    "print(lin_rmse)"
   ]
  },
  {
   "cell_type": "code",
   "execution_count": 35,
   "metadata": {},
   "outputs": [
    {
     "data": {
      "text/plain": [
       "[(13377.21662577333, 20000.0),\n",
       " (90346.5965002132, 100000.0),\n",
       " (18869.612763820114, 20000.0),\n",
       " (3482.895091704171, 2000.0),\n",
       " (65154.96187266431, 50000.0),\n",
       " (12341.839273283975, 10000.0),\n",
       " (102269.29121696854, 100000.0),\n",
       " (102140.0967922335, 100000.0),\n",
       " (102269.29121696854, 100000.0),\n",
       " (96507.27728443893, 100000.0)]"
      ]
     },
     "execution_count": 35,
     "metadata": {},
     "output_type": "execute_result"
    }
   ],
   "source": [
    "list(zip(test_set_predictions[:10], bs_target_test[:10]))"
   ]
  },
  {
   "cell_type": "code",
   "execution_count": 36,
   "metadata": {},
   "outputs": [
    {
     "data": {
      "image/png": "[encoded data removed]",
      "text/plain": [
       "<Figure size 864x288 with 3 Axes>"
      ]
     },
     "metadata": {},
     "output_type": "display_data"
    }
   ],
   "source": [
    "fig = plt.figure(figsize=(12,4))\n",
    "gs = plt.GridSpec(1, 3)\n",
    "\n",
    "ax = plt.subplot(gs[0])\n",
    "n, bins, patches = plt.hist(test_set_predictions)\n",
    "plt.title('Test set predictions')\n",
    "plt.xlabel('Predicted prices')\n",
    "\n",
    "ax = plt.subplot(gs[1])\n",
    "n, bins, patches = plt.hist(bs_target_test)\n",
    "plt.title('Test values')\n",
    "plt.xlabel('True prices')\n",
    "\n",
    "ax = plt.subplot(gs[2])\n",
    "plt.scatter(bs_target_test, test_set_predictions)\n",
    "plt.xlabel('True prices')\n",
    "plt.ylabel('Predicted prices')\n",
    "plt.title('Predicted v. true')\n",
    "\n",
    "plt.tight_layout()"
   ]
  },
  {
   "cell_type": "code",
   "execution_count": 37,
   "metadata": {},
   "outputs": [
    {
     "name": "stdout",
     "output_type": "stream",
     "text": [
      "('Common (C/W)', 2147.51937712005)\n",
      "('Uncommon (C/W)', 9854.066068939912)\n",
      "('Rare Mod', 7037.067479405891)\n",
      "('1 Level booster', -42.70305365115041)\n",
      "('2 Level booster', 411.83651665689274)\n",
      "('3 Level booster', 4627.984541592373)\n",
      "('4 Level booster', 7590.521932045594)\n",
      "('N. Consumbales', 414.2841051787973)\n",
      "('R/UR Weap.', 42752.247388308664)\n",
      "('R/UR Char.', 41206.38148071453)\n"
     ]
    }
   ],
   "source": [
    "for x in zip(list(bs_train), lin_reg.coef_):\n",
    "    print(x)"
   ]
  },
  {
   "cell_type": "code",
   "execution_count": null,
   "metadata": {},
   "outputs": [],
   "source": []
  }
 ],
 "metadata": {
  "kernelspec": {
   "display_name": "Python 3",
   "language": "python",
   "name": "python3"
  },
  "language_info": {
   "codemirror_mode": {
    "name": "ipython",
    "version": 3
   },
   "file_extension": ".py",
   "mimetype": "text/x-python",
   "name": "python",
   "nbconvert_exporter": "python",
   "pygments_lexer": "ipython3",
   "version": "3.6.4"
  }
 },
 "nbformat": 4,
 "nbformat_minor": 2
}
