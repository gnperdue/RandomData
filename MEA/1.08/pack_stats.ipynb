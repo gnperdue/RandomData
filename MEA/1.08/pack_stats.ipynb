{
 "cells": [
  {
   "cell_type": "markdown",
   "metadata": {},
   "source": [
    "# Pack Stats"
   ]
  },
  {
   "cell_type": "code",
   "execution_count": 2,
   "metadata": {
    "collapsed": true
   },
   "outputs": [],
   "source": [
    "import pymc3 as pm\n",
    "import pandas as pd\n",
    "import numpy as np\n",
    "import matplotlib.pyplot as plt\n",
    "%matplotlib inline"
   ]
  },
  {
   "cell_type": "code",
   "execution_count": 3,
   "metadata": {},
   "outputs": [
    {
     "data": {
      "text/html": [
       "<div>\n",
       "<table border=\"1\" class=\"dataframe\">\n",
       "  <thead>\n",
       "    <tr style=\"text-align: right;\">\n",
       "      <th></th>\n",
       "      <th>Date</th>\n",
       "      <th>Pack</th>\n",
       "      <th>AP/Creds</th>\n",
       "      <th>Notes</th>\n",
       "      <th>Uncommon</th>\n",
       "      <th>Rare Mod</th>\n",
       "      <th>Rare Weap.</th>\n",
       "      <th>Rare Char.</th>\n",
       "      <th>UR Weap.</th>\n",
       "      <th>UR Char.</th>\n",
       "      <th>UR Booster</th>\n",
       "      <th>Ultra Rares</th>\n",
       "    </tr>\n",
       "  </thead>\n",
       "  <tbody>\n",
       "    <tr>\n",
       "      <th>0</th>\n",
       "      <td>2-Jul-17</td>\n",
       "      <td>Reserves</td>\n",
       "      <td>AP</td>\n",
       "      <td>Gold mod unfin.; Gold weap unfin; Gold char Un...</td>\n",
       "      <td>0</td>\n",
       "      <td>0</td>\n",
       "      <td>0</td>\n",
       "      <td>1</td>\n",
       "      <td>0</td>\n",
       "      <td>1</td>\n",
       "      <td>0</td>\n",
       "      <td>Angara Exemplar</td>\n",
       "    </tr>\n",
       "    <tr>\n",
       "      <th>1</th>\n",
       "      <td>2-Jul-17</td>\n",
       "      <td>Reserves</td>\n",
       "      <td>AP</td>\n",
       "      <td>Gold mod unfin.; Gold weap unfin; Gold char Un...</td>\n",
       "      <td>1</td>\n",
       "      <td>0</td>\n",
       "      <td>1</td>\n",
       "      <td>1</td>\n",
       "      <td>0</td>\n",
       "      <td>0</td>\n",
       "      <td>0</td>\n",
       "      <td>NaN</td>\n",
       "    </tr>\n",
       "    <tr>\n",
       "      <th>2</th>\n",
       "      <td>2-Jul-17</td>\n",
       "      <td>Reserves</td>\n",
       "      <td>AP</td>\n",
       "      <td>Gold mod unfin.; Gold weap unfin; Gold char Un...</td>\n",
       "      <td>0</td>\n",
       "      <td>0</td>\n",
       "      <td>0</td>\n",
       "      <td>2</td>\n",
       "      <td>0</td>\n",
       "      <td>0</td>\n",
       "      <td>0</td>\n",
       "      <td>NaN</td>\n",
       "    </tr>\n",
       "    <tr>\n",
       "      <th>3</th>\n",
       "      <td>2-Jul-17</td>\n",
       "      <td>Reserves</td>\n",
       "      <td>AP</td>\n",
       "      <td>Gold mod unfin.; Gold weap unfin; Gold char Un...</td>\n",
       "      <td>0</td>\n",
       "      <td>1</td>\n",
       "      <td>0</td>\n",
       "      <td>1</td>\n",
       "      <td>0</td>\n",
       "      <td>0</td>\n",
       "      <td>1</td>\n",
       "      <td>NaN</td>\n",
       "    </tr>\n",
       "    <tr>\n",
       "      <th>4</th>\n",
       "      <td>2-Jul-17</td>\n",
       "      <td>Reserves</td>\n",
       "      <td>AP</td>\n",
       "      <td>Gold mod unfin.; Gold weap unfin; Gold char Un...</td>\n",
       "      <td>0</td>\n",
       "      <td>1</td>\n",
       "      <td>0</td>\n",
       "      <td>1</td>\n",
       "      <td>0</td>\n",
       "      <td>0</td>\n",
       "      <td>1</td>\n",
       "      <td>NaN</td>\n",
       "    </tr>\n",
       "  </tbody>\n",
       "</table>\n",
       "</div>"
      ],
      "text/plain": [
       "       Date      Pack AP/Creds  \\\n",
       "0  2-Jul-17  Reserves       AP   \n",
       "1  2-Jul-17  Reserves       AP   \n",
       "2  2-Jul-17  Reserves       AP   \n",
       "3  2-Jul-17  Reserves       AP   \n",
       "4  2-Jul-17  Reserves       AP   \n",
       "\n",
       "                                               Notes  Uncommon  Rare Mod  \\\n",
       "0  Gold mod unfin.; Gold weap unfin; Gold char Un...         0         0   \n",
       "1  Gold mod unfin.; Gold weap unfin; Gold char Un...         1         0   \n",
       "2  Gold mod unfin.; Gold weap unfin; Gold char Un...         0         0   \n",
       "3  Gold mod unfin.; Gold weap unfin; Gold char Un...         0         1   \n",
       "4  Gold mod unfin.; Gold weap unfin; Gold char Un...         0         1   \n",
       "\n",
       "   Rare Weap.  Rare Char.  UR Weap.  UR Char.  UR Booster      Ultra Rares  \n",
       "0           0           1         0         1           0  Angara Exemplar  \n",
       "1           1           1         0         0           0              NaN  \n",
       "2           0           2         0         0           0              NaN  \n",
       "3           0           1         0         0           1              NaN  \n",
       "4           0           1         0         0           1              NaN  "
      ]
     },
     "execution_count": 3,
     "metadata": {},
     "output_type": "execute_result"
    }
   ],
   "source": [
    "packs_raw = pd.read_csv('./pack_stats.csv')\n",
    "packs_raw.head()"
   ]
  },
  {
   "cell_type": "code",
   "execution_count": 4,
   "metadata": {},
   "outputs": [
    {
     "name": "stdout",
     "output_type": "stream",
     "text": [
      "<class 'pandas.core.frame.DataFrame'>\n",
      "RangeIndex: 62 entries, 0 to 61\n",
      "Data columns (total 12 columns):\n",
      "Date           62 non-null object\n",
      "Pack           62 non-null object\n",
      "AP/Creds       62 non-null object\n",
      "Notes          62 non-null object\n",
      "Uncommon       62 non-null int64\n",
      "Rare Mod       62 non-null int64\n",
      "Rare Weap.     62 non-null int64\n",
      "Rare Char.     62 non-null int64\n",
      "UR Weap.       62 non-null int64\n",
      "UR Char.       62 non-null int64\n",
      "UR Booster     62 non-null int64\n",
      "Ultra Rares    21 non-null object\n",
      "dtypes: int64(7), object(5)\n",
      "memory usage: 5.9+ KB\n"
     ]
    }
   ],
   "source": [
    "packs_raw.info()"
   ]
  },
  {
   "cell_type": "code",
   "execution_count": 5,
   "metadata": {},
   "outputs": [
    {
     "data": {
      "text/plain": [
       "Gold mod unfin.; Gold weap unfin; Gold char Unfin; UR weap unfin; UR char unfin    43\n",
       "Gold mod unfin.; Gold weap unfin; UR weap unfin; UR char unfin                     11\n",
       "Gold weap unfin; UR weap unfin; UR char unfin                                       8\n",
       "Name: Notes, dtype: int64"
      ]
     },
     "execution_count": 5,
     "metadata": {},
     "output_type": "execute_result"
    }
   ],
   "source": [
    "packs_raw['Notes'].value_counts()"
   ]
  },
  {
   "cell_type": "code",
   "execution_count": 10,
   "metadata": {},
   "outputs": [
    {
     "data": {
      "text/plain": [
       "Reserves    61\n",
       "Expert       1\n",
       "Name: Pack, dtype: int64"
      ]
     },
     "execution_count": 10,
     "metadata": {},
     "output_type": "execute_result"
    }
   ],
   "source": [
    "packs_raw['Pack'].value_counts()"
   ]
  },
  {
   "cell_type": "code",
   "execution_count": 18,
   "metadata": {},
   "outputs": [
    {
     "name": "stdout",
     "output_type": "stream",
     "text": [
      "Number of \"premium tier\" packs = 61\n",
      "Number of UR weapons = 10\n",
      "Number of UR characters = 12\n",
      "Number of UR boosters = 13\n"
     ]
    }
   ],
   "source": [
    "n_reserves = len(packs_raw[packs_raw['Pack'] == 'Reserves'])\n",
    "print('Number of \"premium tier\" packs =', n_reserves)\n",
    "n_ur_weap = np.sum(packs_raw[packs_raw['Pack'] == 'Reserves']['UR Weap.'])\n",
    "print('Number of UR weapons =', n_ur_weap)\n",
    "n_ur_char = np.sum(packs_raw[packs_raw['Pack'] == 'Reserves']['UR Char.'])\n",
    "print('Number of UR characters =', n_ur_char)\n",
    "n_ur_boost = np.sum(packs_raw[packs_raw['Pack'] == 'Reserves']['UR Booster'])\n",
    "print('Number of UR boosters =', n_ur_boost)"
   ]
  },
  {
   "cell_type": "code",
   "execution_count": null,
   "metadata": {
    "collapsed": true
   },
   "outputs": [],
   "source": []
  }
 ],
 "metadata": {
  "kernelspec": {
   "display_name": "Python 3",
   "language": "python",
   "name": "python3"
  },
  "language_info": {
   "codemirror_mode": {
    "name": "ipython",
    "version": 3
   },
   "file_extension": ".py",
   "mimetype": "text/x-python",
   "name": "python",
   "nbconvert_exporter": "python",
   "pygments_lexer": "ipython3",
   "version": "3.5.3"
  }
 },
 "nbformat": 4,
 "nbformat_minor": 2
}
