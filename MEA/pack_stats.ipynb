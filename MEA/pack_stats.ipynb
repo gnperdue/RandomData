{
 "cells": [
  {
   "cell_type": "markdown",
   "metadata": {},
   "source": [
    "# Pack Stats"
   ]
  },
  {
   "cell_type": "code",
   "execution_count": 1,
   "metadata": {},
   "outputs": [],
   "source": [
    "#import pymc3 as pm\n",
    "import pandas as pd\n",
    "import numpy as np\n",
    "import matplotlib.pyplot as plt\n",
    "import scipy.stats as stats\n",
    "%matplotlib inline"
   ]
  },
  {
   "cell_type": "code",
   "execution_count": 2,
   "metadata": {},
   "outputs": [
    {
     "data": {
      "text/html": [
       "<div>\n",
       "<style scoped>\n",
       "    .dataframe tbody tr th:only-of-type {\n",
       "        vertical-align: middle;\n",
       "    }\n",
       "\n",
       "    .dataframe tbody tr th {\n",
       "        vertical-align: top;\n",
       "    }\n",
       "\n",
       "    .dataframe thead th {\n",
       "        text-align: right;\n",
       "    }\n",
       "</style>\n",
       "<table border=\"1\" class=\"dataframe\">\n",
       "  <thead>\n",
       "    <tr style=\"text-align: right;\">\n",
       "      <th></th>\n",
       "      <th>Date</th>\n",
       "      <th>Pack</th>\n",
       "      <th>AP/Creds</th>\n",
       "      <th>Price</th>\n",
       "      <th>Notes</th>\n",
       "      <th>Common (C/W)</th>\n",
       "      <th>Uncommon (C/W)</th>\n",
       "      <th>Rare Mod</th>\n",
       "      <th>Rare Weap.</th>\n",
       "      <th>Rare Char.</th>\n",
       "      <th>UR Weap.</th>\n",
       "      <th>UR Char.</th>\n",
       "      <th>1 Level booster</th>\n",
       "      <th>2 Level booster</th>\n",
       "      <th>3 Level booster</th>\n",
       "      <th>4 Level booster</th>\n",
       "      <th>N. Consumbales</th>\n",
       "      <th>Variant present</th>\n",
       "    </tr>\n",
       "  </thead>\n",
       "  <tbody>\n",
       "    <tr>\n",
       "      <th>0</th>\n",
       "      <td>6-Jul-17</td>\n",
       "      <td>Basic</td>\n",
       "      <td>Credits</td>\n",
       "      <td>5000</td>\n",
       "      <td>Bronze char unfin; Bronze mod variants unfin; ...</td>\n",
       "      <td>1</td>\n",
       "      <td>0</td>\n",
       "      <td>0</td>\n",
       "      <td>0</td>\n",
       "      <td>0</td>\n",
       "      <td>0</td>\n",
       "      <td>0</td>\n",
       "      <td>0</td>\n",
       "      <td>1</td>\n",
       "      <td>0</td>\n",
       "      <td>0</td>\n",
       "      <td>3</td>\n",
       "      <td>No</td>\n",
       "    </tr>\n",
       "    <tr>\n",
       "      <th>1</th>\n",
       "      <td>6-Jul-17</td>\n",
       "      <td>Basic</td>\n",
       "      <td>Credits</td>\n",
       "      <td>5000</td>\n",
       "      <td>Bronze char unfin; Bronze mod variants unfin; ...</td>\n",
       "      <td>2</td>\n",
       "      <td>0</td>\n",
       "      <td>0</td>\n",
       "      <td>0</td>\n",
       "      <td>0</td>\n",
       "      <td>0</td>\n",
       "      <td>0</td>\n",
       "      <td>1</td>\n",
       "      <td>0</td>\n",
       "      <td>0</td>\n",
       "      <td>0</td>\n",
       "      <td>2</td>\n",
       "      <td>No</td>\n",
       "    </tr>\n",
       "    <tr>\n",
       "      <th>2</th>\n",
       "      <td>6-Jul-17</td>\n",
       "      <td>Advanced</td>\n",
       "      <td>Credits</td>\n",
       "      <td>20000</td>\n",
       "      <td>Bronze char unfin; Bronze mod variants unfin; ...</td>\n",
       "      <td>0</td>\n",
       "      <td>1</td>\n",
       "      <td>0</td>\n",
       "      <td>0</td>\n",
       "      <td>0</td>\n",
       "      <td>0</td>\n",
       "      <td>0</td>\n",
       "      <td>1</td>\n",
       "      <td>0</td>\n",
       "      <td>0</td>\n",
       "      <td>0</td>\n",
       "      <td>3</td>\n",
       "      <td>No</td>\n",
       "    </tr>\n",
       "    <tr>\n",
       "      <th>3</th>\n",
       "      <td>6-Jul-17</td>\n",
       "      <td>Basic</td>\n",
       "      <td>Credits</td>\n",
       "      <td>5000</td>\n",
       "      <td>Bronze char unfin; Bronze mod variants unfin; ...</td>\n",
       "      <td>2</td>\n",
       "      <td>0</td>\n",
       "      <td>0</td>\n",
       "      <td>0</td>\n",
       "      <td>0</td>\n",
       "      <td>0</td>\n",
       "      <td>0</td>\n",
       "      <td>1</td>\n",
       "      <td>0</td>\n",
       "      <td>0</td>\n",
       "      <td>0</td>\n",
       "      <td>2</td>\n",
       "      <td>No</td>\n",
       "    </tr>\n",
       "    <tr>\n",
       "      <th>4</th>\n",
       "      <td>6-Jul-17</td>\n",
       "      <td>Basic</td>\n",
       "      <td>Credits</td>\n",
       "      <td>5000</td>\n",
       "      <td>Bronze char unfin; Bronze mod variants unfin; ...</td>\n",
       "      <td>1</td>\n",
       "      <td>0</td>\n",
       "      <td>0</td>\n",
       "      <td>0</td>\n",
       "      <td>0</td>\n",
       "      <td>0</td>\n",
       "      <td>0</td>\n",
       "      <td>1</td>\n",
       "      <td>0</td>\n",
       "      <td>0</td>\n",
       "      <td>0</td>\n",
       "      <td>3</td>\n",
       "      <td>No</td>\n",
       "    </tr>\n",
       "  </tbody>\n",
       "</table>\n",
       "</div>"
      ],
      "text/plain": [
       "       Date      Pack AP/Creds  Price  \\\n",
       "0  6-Jul-17     Basic  Credits   5000   \n",
       "1  6-Jul-17     Basic  Credits   5000   \n",
       "2  6-Jul-17  Advanced  Credits  20000   \n",
       "3  6-Jul-17     Basic  Credits   5000   \n",
       "4  6-Jul-17     Basic  Credits   5000   \n",
       "\n",
       "                                               Notes  Common (C/W)  \\\n",
       "0  Bronze char unfin; Bronze mod variants unfin; ...             1   \n",
       "1  Bronze char unfin; Bronze mod variants unfin; ...             2   \n",
       "2  Bronze char unfin; Bronze mod variants unfin; ...             0   \n",
       "3  Bronze char unfin; Bronze mod variants unfin; ...             2   \n",
       "4  Bronze char unfin; Bronze mod variants unfin; ...             1   \n",
       "\n",
       "   Uncommon (C/W)  Rare Mod  Rare Weap.  Rare Char.  UR Weap.  UR Char.  \\\n",
       "0               0         0           0           0         0         0   \n",
       "1               0         0           0           0         0         0   \n",
       "2               1         0           0           0         0         0   \n",
       "3               0         0           0           0         0         0   \n",
       "4               0         0           0           0         0         0   \n",
       "\n",
       "   1 Level booster  2 Level booster  3 Level booster  4 Level booster  \\\n",
       "0                0                1                0                0   \n",
       "1                1                0                0                0   \n",
       "2                1                0                0                0   \n",
       "3                1                0                0                0   \n",
       "4                1                0                0                0   \n",
       "\n",
       "   N. Consumbales Variant present  \n",
       "0               3              No  \n",
       "1               2              No  \n",
       "2               3              No  \n",
       "3               2              No  \n",
       "4               3              No  "
      ]
     },
     "execution_count": 2,
     "metadata": {},
     "output_type": "execute_result"
    }
   ],
   "source": [
    "packs_raw = pd.read_csv('./1.09/MEA_Patch_1_09.csv')\n",
    "packs_raw.head()"
   ]
  },
  {
   "cell_type": "code",
   "execution_count": 3,
   "metadata": {},
   "outputs": [
    {
     "data": {
      "text/plain": [
       "['Date',\n",
       " 'Pack',\n",
       " 'AP/Creds',\n",
       " 'Price',\n",
       " 'Notes',\n",
       " 'Common (C/W)',\n",
       " 'Uncommon (C/W)',\n",
       " 'Rare Mod',\n",
       " 'Rare Weap.',\n",
       " 'Rare Char.',\n",
       " 'UR Weap.',\n",
       " 'UR Char.',\n",
       " '1 Level booster',\n",
       " '2 Level booster',\n",
       " '3 Level booster',\n",
       " '4 Level booster',\n",
       " 'N. Consumbales',\n",
       " 'Variant present']"
      ]
     },
     "execution_count": 3,
     "metadata": {},
     "output_type": "execute_result"
    }
   ],
   "source": [
    "list(packs_raw)"
   ]
  },
  {
   "cell_type": "code",
   "execution_count": 4,
   "metadata": {},
   "outputs": [
    {
     "name": "stdout",
     "output_type": "stream",
     "text": [
      "<class 'pandas.core.frame.DataFrame'>\n",
      "RangeIndex: 70 entries, 0 to 69\n",
      "Data columns (total 18 columns):\n",
      "Date               70 non-null object\n",
      "Pack               70 non-null object\n",
      "AP/Creds           70 non-null object\n",
      "Price              70 non-null int64\n",
      "Notes              70 non-null object\n",
      "Common (C/W)       70 non-null int64\n",
      "Uncommon (C/W)     70 non-null int64\n",
      "Rare Mod           70 non-null int64\n",
      "Rare Weap.         70 non-null int64\n",
      "Rare Char.         70 non-null int64\n",
      "UR Weap.           70 non-null int64\n",
      "UR Char.           70 non-null int64\n",
      "1 Level booster    70 non-null int64\n",
      "2 Level booster    70 non-null int64\n",
      "3 Level booster    70 non-null int64\n",
      "4 Level booster    70 non-null int64\n",
      "N. Consumbales     70 non-null int64\n",
      "Variant present    70 non-null object\n",
      "dtypes: int64(13), object(5)\n",
      "memory usage: 9.9+ KB\n"
     ]
    }
   ],
   "source": [
    "packs_raw.info()"
   ]
  },
  {
   "cell_type": "code",
   "execution_count": 5,
   "metadata": {},
   "outputs": [],
   "source": [
    "packs_raw_1_10 = pd.read_csv('./1.10/MEA_Patch_1_10.csv')"
   ]
  },
  {
   "cell_type": "code",
   "execution_count": 6,
   "metadata": {},
   "outputs": [
    {
     "name": "stdout",
     "output_type": "stream",
     "text": [
      "<class 'pandas.core.frame.DataFrame'>\n",
      "RangeIndex: 327 entries, 0 to 326\n",
      "Data columns (total 18 columns):\n",
      "Date               327 non-null object\n",
      "Pack               327 non-null object\n",
      "AP/Creds           327 non-null object\n",
      "Price              326 non-null float64\n",
      "Notes              327 non-null object\n",
      "Common (C/W)       327 non-null int64\n",
      "Uncommon (C/W)     327 non-null int64\n",
      "Rare Mod           327 non-null int64\n",
      "Rare Weap.         327 non-null int64\n",
      "Rare Char.         327 non-null int64\n",
      "UR Weap.           327 non-null int64\n",
      "UR Char.           327 non-null int64\n",
      "1 Level booster    327 non-null int64\n",
      "2 Level booster    327 non-null int64\n",
      "3 Level booster    327 non-null int64\n",
      "4 Level booster    327 non-null int64\n",
      "N. Consumbales     327 non-null int64\n",
      "Variant present    327 non-null object\n",
      "dtypes: float64(1), int64(12), object(5)\n",
      "memory usage: 46.1+ KB\n"
     ]
    }
   ],
   "source": [
    "packs_raw_1_10.info()"
   ]
  },
  {
   "cell_type": "code",
   "execution_count": 7,
   "metadata": {},
   "outputs": [],
   "source": [
    "packs_raw_1_10 = packs_raw_1_10[pd.notnull(packs_raw_1_10['Price'])]"
   ]
  },
  {
   "cell_type": "code",
   "execution_count": 8,
   "metadata": {},
   "outputs": [],
   "source": [
    "packs_raw = packs_raw.append(packs_raw_1_10)"
   ]
  },
  {
   "cell_type": "code",
   "execution_count": 9,
   "metadata": {},
   "outputs": [
    {
     "name": "stdout",
     "output_type": "stream",
     "text": [
      "<class 'pandas.core.frame.DataFrame'>\n",
      "Int64Index: 396 entries, 0 to 326\n",
      "Data columns (total 18 columns):\n",
      "Date               396 non-null object\n",
      "Pack               396 non-null object\n",
      "AP/Creds           396 non-null object\n",
      "Price              396 non-null float64\n",
      "Notes              396 non-null object\n",
      "Common (C/W)       396 non-null int64\n",
      "Uncommon (C/W)     396 non-null int64\n",
      "Rare Mod           396 non-null int64\n",
      "Rare Weap.         396 non-null int64\n",
      "Rare Char.         396 non-null int64\n",
      "UR Weap.           396 non-null int64\n",
      "UR Char.           396 non-null int64\n",
      "1 Level booster    396 non-null int64\n",
      "2 Level booster    396 non-null int64\n",
      "3 Level booster    396 non-null int64\n",
      "4 Level booster    396 non-null int64\n",
      "N. Consumbales     396 non-null int64\n",
      "Variant present    396 non-null object\n",
      "dtypes: float64(1), int64(12), object(5)\n",
      "memory usage: 58.8+ KB\n"
     ]
    }
   ],
   "source": [
    "packs_raw.info()"
   ]
  },
  {
   "cell_type": "code",
   "execution_count": 10,
   "metadata": {},
   "outputs": [
    {
     "data": {
      "text/plain": [
       "Advanced          104\n",
       "Reserves           79\n",
       "Jumbo Supply       53\n",
       "Expert             32\n",
       "Basic              31\n",
       "Premium            31\n",
       "Supply             27\n",
       "Ammo Priming       27\n",
       "Technical Mods      5\n",
       "Arsenal             3\n",
       "Apex Elite          3\n",
       "Jumbo Premium       1\n",
       "Name: Pack, dtype: int64"
      ]
     },
     "execution_count": 10,
     "metadata": {},
     "output_type": "execute_result"
    }
   ],
   "source": [
    "packs_raw['Pack'].value_counts()"
   ]
  },
  {
   "cell_type": "code",
   "execution_count": 11,
   "metadata": {},
   "outputs": [
    {
     "data": {
      "text/plain": [
       "100000.0    113\n",
       "20000.0     109\n",
       "10000.0      80\n",
       "50000.0      32\n",
       "5000.0       31\n",
       "2000.0       27\n",
       "0.0           3\n",
       "500000.0      1\n",
       "Name: Price, dtype: int64"
      ]
     },
     "execution_count": 11,
     "metadata": {},
     "output_type": "execute_result"
    }
   ],
   "source": [
    "packs_raw['Price'].value_counts()"
   ]
  },
  {
   "cell_type": "code",
   "execution_count": 12,
   "metadata": {},
   "outputs": [
    {
     "data": {
      "text/plain": [
       "5     Apex Elite\n",
       "35    Apex Elite\n",
       "91    Apex Elite\n",
       "Name: Pack, dtype: object"
      ]
     },
     "execution_count": 12,
     "metadata": {},
     "output_type": "execute_result"
    }
   ],
   "source": [
    "packs_raw['Pack'][packs_raw['Price'] == 0]"
   ]
  },
  {
   "cell_type": "code",
   "execution_count": 13,
   "metadata": {},
   "outputs": [],
   "source": [
    "packs_raw = packs_raw[packs_raw['Price'] > 0.]"
   ]
  },
  {
   "cell_type": "code",
   "execution_count": 14,
   "metadata": {},
   "outputs": [
    {
     "name": "stdout",
     "output_type": "stream",
     "text": [
      "<class 'pandas.core.frame.DataFrame'>\n",
      "Int64Index: 393 entries, 0 to 326\n",
      "Data columns (total 18 columns):\n",
      "Date               393 non-null object\n",
      "Pack               393 non-null object\n",
      "AP/Creds           393 non-null object\n",
      "Price              393 non-null float64\n",
      "Notes              393 non-null object\n",
      "Common (C/W)       393 non-null int64\n",
      "Uncommon (C/W)     393 non-null int64\n",
      "Rare Mod           393 non-null int64\n",
      "Rare Weap.         393 non-null int64\n",
      "Rare Char.         393 non-null int64\n",
      "UR Weap.           393 non-null int64\n",
      "UR Char.           393 non-null int64\n",
      "1 Level booster    393 non-null int64\n",
      "2 Level booster    393 non-null int64\n",
      "3 Level booster    393 non-null int64\n",
      "4 Level booster    393 non-null int64\n",
      "N. Consumbales     393 non-null int64\n",
      "Variant present    393 non-null object\n",
      "dtypes: float64(1), int64(12), object(5)\n",
      "memory usage: 58.3+ KB\n"
     ]
    }
   ],
   "source": [
    "packs_raw.info()"
   ]
  },
  {
   "cell_type": "code",
   "execution_count": 15,
   "metadata": {},
   "outputs": [
    {
     "data": {
      "text/plain": [
       "Bronze mod variants unfin; Silver mod unfin; Silver mod variants unfin; Silver weap unfin; Silver weap variants unfin; Silver char unfin; Gold mod variants unfin; Gold weap unfin; Gold weap variants unfin; Gold char unfin; UR weap unfin; UR char unfin                       145\n",
       "Bronze mod variants unfin; Silver mod variants unfin; Silver weap variants unfin; Gold mod variants unfin; Gold weap variants unfin; UR weap unfin; UR char unfin                                                                                                                  93\n",
       "Bronze char unfin; Bronze mod variants unfin; Silver mod unfin; Silver mod variants unfin; Silver weap unfin; Silver weap variants unfin; Silver char unfin; Gold mod variants unfin; Gold weap unfin; Gold weap variants unfin; Gold char Unfin; UR weap unfin; UR char unfin     66\n",
       "Bronze mod variants unfin; Silver mod unfin; Silver mod variants unfin; Silver weap unfin; Silver weap variants unfin; Silver char unfin; Gold mod variants unfin; Gold weap unfin; Gold weap variants unfin; UR weap unfin; UR char unfin                                         30\n",
       "Bronze mod variants unfin; Silver mod unfin; Silver mod variants unfin; Silver weap variants unfin; Gold mod variants unfin; Gold weap variants unfin; UR weap unfin; UR char unfin                                                                                                17\n",
       "Bronze mod variants unfin; Silver mod unfin; Silver mod variants unfin; Silver weap unfin; Silver weap variants unfin; Silver char unfin; Gold mod variants unfin; Gold weap unfin; Gold weap variants unfin; Gold char Unfin; UR weap unfin; UR char unfin                        15\n",
       "Bronze mod variants unfin; Silver mod unfin; Silver mod variants unfin; Silver weap unfin; Silver weap variants unfin; Gold mod variants unfin; Gold weap unfin; Gold weap variants unfin; Gold char unfin; UR weap unfin; UR char unfin                                           14\n",
       "Bronze mod variants unfin; Silver mod unfin; Silver mod variants unfin; Silver weap unfin; Silver weap variants unfin; Gold mod variants unfin; Gold weap variants unfin; UR weap unfin; UR char unfin                                                                             12\n",
       "Bronze mod variants unfin; Silver mod unfin; Silver mod variants unfin; Silver weap unfin; Silver weap variants unfin; Gold mod variants unfin; Gold weap variants unfin; Gold char unfin; UR weap unfin; UR char unfin                                                             1\n",
       "Name: Notes, dtype: int64"
      ]
     },
     "execution_count": 15,
     "metadata": {},
     "output_type": "execute_result"
    }
   ],
   "source": [
    "packs_raw['Notes'].value_counts()"
   ]
  },
  {
   "cell_type": "code",
   "execution_count": 16,
   "metadata": {},
   "outputs": [
    {
     "data": {
      "text/plain": [
       "Advanced          104\n",
       "Reserves           79\n",
       "Jumbo Supply       53\n",
       "Expert             32\n",
       "Basic              31\n",
       "Premium            31\n",
       "Supply             27\n",
       "Ammo Priming       27\n",
       "Technical Mods      5\n",
       "Arsenal             3\n",
       "Jumbo Premium       1\n",
       "Name: Pack, dtype: int64"
      ]
     },
     "execution_count": 16,
     "metadata": {},
     "output_type": "execute_result"
    }
   ],
   "source": [
    "packs_raw['Pack'].value_counts()"
   ]
  },
  {
   "cell_type": "code",
   "execution_count": 17,
   "metadata": {},
   "outputs": [
    {
     "name": "stdout",
     "output_type": "stream",
     "text": [
      "Number of \"premium tier\" packs = 113\n",
      "Number of UR weapons = 6\n",
      "Number of UR characters = 18\n",
      "Number of total URs = 24\n",
      "Number of UR boosters = 36\n"
     ]
    }
   ],
   "source": [
    "n_premium = 0\n",
    "prem_types = ['Arsenal', 'Reserves', 'Premium']\n",
    "for b in prem_types:\n",
    "    n_premium += len(packs_raw[packs_raw['Pack'] == b])\n",
    "print('Number of \"premium tier\" packs =', n_premium)\n",
    "\n",
    "prem_idx = packs_raw['Pack'] == prem_types[0]\n",
    "for i in range(1, len(prem_types)):\n",
    "    prem_idx |= packs_raw['Pack'] == prem_types[i]\n",
    "\n",
    "n_ur_weap = np.sum(packs_raw[prem_idx]['UR Weap.'])\n",
    "print('Number of UR weapons =', n_ur_weap)\n",
    "\n",
    "n_ur_char = np.sum(packs_raw[prem_idx]['UR Char.'])\n",
    "print('Number of UR characters =', n_ur_char)\n",
    "\n",
    "n_ur_tot = n_ur_weap + n_ur_char\n",
    "print('Number of total URs =', n_ur_tot)\n",
    "\n",
    "n_ur_boost = np.sum(packs_raw[prem_idx]['4 Level booster'])\n",
    "print('Number of UR boosters =', n_ur_boost)"
   ]
  },
  {
   "cell_type": "markdown",
   "metadata": {},
   "source": [
    "Suppose the probability of a UR character is twice that of a UR weapon over this mix of packs..."
   ]
  },
  {
   "cell_type": "code",
   "execution_count": 18,
   "metadata": {},
   "outputs": [
    {
     "data": {
      "text/plain": [
       "(array([   4.,   34.,  258., 1096., 1070., 3200., 2940., 1201.,  188.,\n",
       "           9.]),\n",
       " array([ 6. ,  7.8,  9.6, 11.4, 13.2, 15. , 16.8, 18.6, 20.4, 22.2, 24. ]),\n",
       " <a list of 10 Patch objects>)"
      ]
     },
     "execution_count": 18,
     "metadata": {},
     "output_type": "execute_result"
    },
    {
     "data": {
      "image/png": "[encoded data removed]",
      "text/plain": [
       "<Figure size 432x288 with 1 Axes>"
      ]
     },
     "metadata": {},
     "output_type": "display_data"
    }
   ],
   "source": [
    "p_c = 0.666\n",
    "p_w = 1.0 - p_c\n",
    "C = stats.binom(n=n_ur_tot, p=p_c)\n",
    "data = C.rvs(10000)\n",
    "plt.hist(data)"
   ]
  },
  {
   "cell_type": "code",
   "execution_count": 19,
   "metadata": {},
   "outputs": [
    {
     "data": {
      "text/plain": [
       "0.21238938053097345"
      ]
     },
     "execution_count": 19,
     "metadata": {},
     "output_type": "execute_result"
    }
   ],
   "source": [
    "n_ur_tot / n_premium"
   ]
  },
  {
   "cell_type": "code",
   "execution_count": 20,
   "metadata": {},
   "outputs": [
    {
     "name": "stdout",
     "output_type": "stream",
     "text": [
      "Expert packs: 32\n",
      "Number of UR weapons = 1\n",
      "Number of UR characters = 2\n",
      "Number of total URs = 3\n",
      "Number of UR boosters = 6\n",
      "UR fraction = 0.093750\n"
     ]
    }
   ],
   "source": [
    "n_expert = len(packs_raw[packs_raw['Pack'] == 'Expert'])\n",
    "print('Expert packs:', n_expert)\n",
    "\n",
    "expert_idx = packs_raw['Pack'] == 'Expert'\n",
    "\n",
    "n_ur_weap_ex = np.sum(packs_raw[expert_idx]['UR Weap.'])\n",
    "print('Number of UR weapons =', n_ur_weap_ex)\n",
    "\n",
    "n_ur_char_ex = np.sum(packs_raw[expert_idx]['UR Char.'])\n",
    "print('Number of UR characters =', n_ur_char_ex)\n",
    "\n",
    "n_ur_tot_ex = n_ur_weap_ex + n_ur_char_ex\n",
    "print('Number of total URs =', n_ur_tot_ex)\n",
    "\n",
    "n_ur_boost_ex = np.sum(packs_raw[expert_idx]['4 Level booster'])\n",
    "print('Number of UR boosters =', n_ur_boost_ex)\n",
    "\n",
    "print('UR fraction = %f' % (n_ur_tot_ex / n_expert))"
   ]
  },
  {
   "cell_type": "code",
   "execution_count": 21,
   "metadata": {},
   "outputs": [
    {
     "name": "stdout",
     "output_type": "stream",
     "text": [
      "number of credits purchases = 393\n",
      "number of AP purchases = 0\n",
      "Note - we dropped the zero price and NA packs...\n",
      "number of non-cred, non-AP packs = 0\n",
      "number of bonus packs = 0\n"
     ]
    }
   ],
   "source": [
    "cred_idx = packs_raw['AP/Creds'] == 'Credits'\n",
    "print('number of credits purchases =', np.sum(cred_idx))\n",
    "\n",
    "ap_idx = packs_raw['AP/Creds'] == 'AP'\n",
    "print('number of AP purchases =', np.sum(ap_idx))\n",
    "\n",
    "print('Note - we dropped the zero price and NA packs...')\n",
    "print('number of non-cred, non-AP packs =', np.sum(~ap_idx & ~cred_idx))\n",
    "\n",
    "bonus_idx = packs_raw['AP/Creds'] == 'Bonus'\n",
    "print('number of bonus packs =', np.sum(bonus_idx))\n",
    "\n",
    "assert np.sum(cred_idx) + np.sum(ap_idx) + np.sum(bonus_idx) == len(packs_raw)"
   ]
  },
  {
   "cell_type": "code",
   "execution_count": 22,
   "metadata": {},
   "outputs": [],
   "source": [
    "pricing_raw = packs_raw.copy()"
   ]
  },
  {
   "cell_type": "code",
   "execution_count": 24,
   "metadata": {},
   "outputs": [
    {
     "name": "stdout",
     "output_type": "stream",
     "text": [
      "Ultra Rares was missing\n",
      "['Pack', 'AP/Creds', 'Price', 'Common (C/W)', 'Uncommon (C/W)', 'Rare Mod', 'Rare Weap.', 'Rare Char.', 'UR Weap.', 'UR Char.', '1 Level booster', '2 Level booster', '3 Level booster', '4 Level booster', 'N. Consumbales']\n"
     ]
    }
   ],
   "source": [
    "for col in ['Date', 'Notes', 'Variant present', 'Ultra Rares']:\n",
    "    try:\n",
    "        pricing_raw.drop(columns=[col], inplace=True)\n",
    "    except ValueError:\n",
    "        print('{} was missing'.format(col))\n",
    "        \n",
    "print(list(pricing_raw))"
   ]
  },
  {
   "cell_type": "code",
   "execution_count": 25,
   "metadata": {},
   "outputs": [
    {
     "name": "stdout",
     "output_type": "stream",
     "text": [
      "<class 'pandas.core.frame.DataFrame'>\n",
      "Int64Index: 393 entries, 0 to 326\n",
      "Data columns (total 15 columns):\n",
      "Pack               393 non-null object\n",
      "AP/Creds           393 non-null object\n",
      "Price              393 non-null float64\n",
      "Common (C/W)       393 non-null int64\n",
      "Uncommon (C/W)     393 non-null int64\n",
      "Rare Mod           393 non-null int64\n",
      "Rare Weap.         393 non-null int64\n",
      "Rare Char.         393 non-null int64\n",
      "UR Weap.           393 non-null int64\n",
      "UR Char.           393 non-null int64\n",
      "1 Level booster    393 non-null int64\n",
      "2 Level booster    393 non-null int64\n",
      "3 Level booster    393 non-null int64\n",
      "4 Level booster    393 non-null int64\n",
      "N. Consumbales     393 non-null int64\n",
      "dtypes: float64(1), int64(12), object(2)\n",
      "memory usage: 49.1+ KB\n"
     ]
    }
   ],
   "source": [
    "pricing_raw.info()"
   ]
  },
  {
   "cell_type": "code",
   "execution_count": null,
   "metadata": {},
   "outputs": [],
   "source": []
  }
 ],
 "metadata": {
  "kernelspec": {
   "display_name": "Python 3",
   "language": "python",
   "name": "python3"
  },
  "language_info": {
   "codemirror_mode": {
    "name": "ipython",
    "version": 3
   },
   "file_extension": ".py",
   "mimetype": "text/x-python",
   "name": "python",
   "nbconvert_exporter": "python",
   "pygments_lexer": "ipython3",
   "version": "3.6.4"
  }
 },
 "nbformat": 4,
 "nbformat_minor": 2
}
