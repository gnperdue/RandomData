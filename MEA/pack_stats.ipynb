{
 "cells": [
  {
   "cell_type": "markdown",
   "metadata": {},
   "source": [
    "# Pack Stats"
   ]
  },
  {
   "cell_type": "code",
   "execution_count": 1,
   "metadata": {
    "collapsed": true
   },
   "outputs": [],
   "source": [
    "#import pymc3 as pm\n",
    "import pandas as pd\n",
    "import numpy as np\n",
    "import matplotlib.pyplot as plt\n",
    "import scipy.stats as stats\n",
    "%matplotlib inline"
   ]
  },
  {
   "cell_type": "code",
   "execution_count": 2,
   "metadata": {},
   "outputs": [
    {
     "data": {
      "text/html": [
       "<div>\n",
       "<style>\n",
       "    .dataframe thead tr:only-child th {\n",
       "        text-align: right;\n",
       "    }\n",
       "\n",
       "    .dataframe thead th {\n",
       "        text-align: left;\n",
       "    }\n",
       "\n",
       "    .dataframe tbody tr th {\n",
       "        vertical-align: top;\n",
       "    }\n",
       "</style>\n",
       "<table border=\"1\" class=\"dataframe\">\n",
       "  <thead>\n",
       "    <tr style=\"text-align: right;\">\n",
       "      <th></th>\n",
       "      <th>Date</th>\n",
       "      <th>Pack</th>\n",
       "      <th>AP/Creds</th>\n",
       "      <th>Price</th>\n",
       "      <th>Notes</th>\n",
       "      <th>Common (C/W)</th>\n",
       "      <th>Uncommon (C/W)</th>\n",
       "      <th>Rare Mod</th>\n",
       "      <th>Rare Weap.</th>\n",
       "      <th>Rare Char.</th>\n",
       "      <th>UR Weap.</th>\n",
       "      <th>UR Char.</th>\n",
       "      <th>1 Level booster</th>\n",
       "      <th>2 Level booster</th>\n",
       "      <th>3 Level booster</th>\n",
       "      <th>4 Level booster</th>\n",
       "      <th>N. Consumbales</th>\n",
       "      <th>Variant present</th>\n",
       "      <th>Ultra Rares</th>\n",
       "    </tr>\n",
       "  </thead>\n",
       "  <tbody>\n",
       "    <tr>\n",
       "      <th>0</th>\n",
       "      <td>6-Jul-17</td>\n",
       "      <td>Basic</td>\n",
       "      <td>Credits</td>\n",
       "      <td>5000</td>\n",
       "      <td>Bronze char unfin; Bronze mod variants unfin; ...</td>\n",
       "      <td>1</td>\n",
       "      <td>0</td>\n",
       "      <td>0</td>\n",
       "      <td>0</td>\n",
       "      <td>0</td>\n",
       "      <td>0</td>\n",
       "      <td>0</td>\n",
       "      <td>0</td>\n",
       "      <td>1</td>\n",
       "      <td>0</td>\n",
       "      <td>0</td>\n",
       "      <td>3</td>\n",
       "      <td>No</td>\n",
       "      <td>NaN</td>\n",
       "    </tr>\n",
       "    <tr>\n",
       "      <th>1</th>\n",
       "      <td>6-Jul-17</td>\n",
       "      <td>Basic</td>\n",
       "      <td>Credits</td>\n",
       "      <td>5000</td>\n",
       "      <td>Bronze char unfin; Bronze mod variants unfin; ...</td>\n",
       "      <td>2</td>\n",
       "      <td>0</td>\n",
       "      <td>0</td>\n",
       "      <td>0</td>\n",
       "      <td>0</td>\n",
       "      <td>0</td>\n",
       "      <td>0</td>\n",
       "      <td>1</td>\n",
       "      <td>0</td>\n",
       "      <td>0</td>\n",
       "      <td>0</td>\n",
       "      <td>2</td>\n",
       "      <td>No</td>\n",
       "      <td>NaN</td>\n",
       "    </tr>\n",
       "    <tr>\n",
       "      <th>2</th>\n",
       "      <td>6-Jul-17</td>\n",
       "      <td>Advanced</td>\n",
       "      <td>Credits</td>\n",
       "      <td>20000</td>\n",
       "      <td>Bronze char unfin; Bronze mod variants unfin; ...</td>\n",
       "      <td>0</td>\n",
       "      <td>1</td>\n",
       "      <td>0</td>\n",
       "      <td>0</td>\n",
       "      <td>0</td>\n",
       "      <td>0</td>\n",
       "      <td>0</td>\n",
       "      <td>1</td>\n",
       "      <td>0</td>\n",
       "      <td>0</td>\n",
       "      <td>0</td>\n",
       "      <td>3</td>\n",
       "      <td>No</td>\n",
       "      <td>NaN</td>\n",
       "    </tr>\n",
       "    <tr>\n",
       "      <th>3</th>\n",
       "      <td>6-Jul-17</td>\n",
       "      <td>Basic</td>\n",
       "      <td>Credits</td>\n",
       "      <td>5000</td>\n",
       "      <td>Bronze char unfin; Bronze mod variants unfin; ...</td>\n",
       "      <td>2</td>\n",
       "      <td>0</td>\n",
       "      <td>0</td>\n",
       "      <td>0</td>\n",
       "      <td>0</td>\n",
       "      <td>0</td>\n",
       "      <td>0</td>\n",
       "      <td>1</td>\n",
       "      <td>0</td>\n",
       "      <td>0</td>\n",
       "      <td>0</td>\n",
       "      <td>2</td>\n",
       "      <td>No</td>\n",
       "      <td>NaN</td>\n",
       "    </tr>\n",
       "    <tr>\n",
       "      <th>4</th>\n",
       "      <td>6-Jul-17</td>\n",
       "      <td>Basic</td>\n",
       "      <td>Credits</td>\n",
       "      <td>5000</td>\n",
       "      <td>Bronze char unfin; Bronze mod variants unfin; ...</td>\n",
       "      <td>1</td>\n",
       "      <td>0</td>\n",
       "      <td>0</td>\n",
       "      <td>0</td>\n",
       "      <td>0</td>\n",
       "      <td>0</td>\n",
       "      <td>0</td>\n",
       "      <td>1</td>\n",
       "      <td>0</td>\n",
       "      <td>0</td>\n",
       "      <td>0</td>\n",
       "      <td>3</td>\n",
       "      <td>No</td>\n",
       "      <td>NaN</td>\n",
       "    </tr>\n",
       "  </tbody>\n",
       "</table>\n",
       "</div>"
      ],
      "text/plain": [
       "       Date      Pack AP/Creds  Price  \\\n",
       "0  6-Jul-17     Basic  Credits   5000   \n",
       "1  6-Jul-17     Basic  Credits   5000   \n",
       "2  6-Jul-17  Advanced  Credits  20000   \n",
       "3  6-Jul-17     Basic  Credits   5000   \n",
       "4  6-Jul-17     Basic  Credits   5000   \n",
       "\n",
       "                                               Notes  Common (C/W)  \\\n",
       "0  Bronze char unfin; Bronze mod variants unfin; ...             1   \n",
       "1  Bronze char unfin; Bronze mod variants unfin; ...             2   \n",
       "2  Bronze char unfin; Bronze mod variants unfin; ...             0   \n",
       "3  Bronze char unfin; Bronze mod variants unfin; ...             2   \n",
       "4  Bronze char unfin; Bronze mod variants unfin; ...             1   \n",
       "\n",
       "   Uncommon (C/W)  Rare Mod  Rare Weap.  Rare Char.  UR Weap.  UR Char.  \\\n",
       "0               0         0           0           0         0         0   \n",
       "1               0         0           0           0         0         0   \n",
       "2               1         0           0           0         0         0   \n",
       "3               0         0           0           0         0         0   \n",
       "4               0         0           0           0         0         0   \n",
       "\n",
       "   1 Level booster  2 Level booster  3 Level booster  4 Level booster  \\\n",
       "0                0                1                0                0   \n",
       "1                1                0                0                0   \n",
       "2                1                0                0                0   \n",
       "3                1                0                0                0   \n",
       "4                1                0                0                0   \n",
       "\n",
       "   N. Consumbales Variant present Ultra Rares  \n",
       "0               3              No         NaN  \n",
       "1               2              No         NaN  \n",
       "2               3              No         NaN  \n",
       "3               2              No         NaN  \n",
       "4               3              No         NaN  "
      ]
     },
     "execution_count": 2,
     "metadata": {},
     "output_type": "execute_result"
    }
   ],
   "source": [
    "packs_raw = pd.read_csv('./1.09/MEA_Patch_1_09.csv')\n",
    "packs_raw.head()"
   ]
  },
  {
   "cell_type": "code",
   "execution_count": 3,
   "metadata": {},
   "outputs": [
    {
     "name": "stdout",
     "output_type": "stream",
     "text": [
      "<class 'pandas.core.frame.DataFrame'>\n",
      "RangeIndex: 153 entries, 0 to 152\n",
      "Data columns (total 19 columns):\n",
      "Date               153 non-null object\n",
      "Pack               153 non-null object\n",
      "AP/Creds           153 non-null object\n",
      "Price              153 non-null int64\n",
      "Notes              153 non-null object\n",
      "Common (C/W)       153 non-null int64\n",
      "Uncommon (C/W)     153 non-null int64\n",
      "Rare Mod           153 non-null int64\n",
      "Rare Weap.         153 non-null int64\n",
      "Rare Char.         153 non-null int64\n",
      "UR Weap.           153 non-null int64\n",
      "UR Char.           153 non-null int64\n",
      "1 Level booster    153 non-null int64\n",
      "2 Level booster    153 non-null int64\n",
      "3 Level booster    153 non-null int64\n",
      "4 Level booster    153 non-null int64\n",
      "N. Consumbales     153 non-null int64\n",
      "Variant present    153 non-null object\n",
      "Ultra Rares        58 non-null object\n",
      "dtypes: int64(13), object(6)\n",
      "memory usage: 22.8+ KB\n"
     ]
    }
   ],
   "source": [
    "packs_raw.info()"
   ]
  },
  {
   "cell_type": "code",
   "execution_count": 4,
   "metadata": {
    "collapsed": true
   },
   "outputs": [],
   "source": [
    "packs_raw_1_10 = pd.read_csv('./1.10/MEA_Patch_1_10.csv')"
   ]
  },
  {
   "cell_type": "code",
   "execution_count": 5,
   "metadata": {},
   "outputs": [
    {
     "name": "stdout",
     "output_type": "stream",
     "text": [
      "<class 'pandas.core.frame.DataFrame'>\n",
      "RangeIndex: 335 entries, 0 to 334\n",
      "Data columns (total 19 columns):\n",
      "Date               335 non-null object\n",
      "Pack               335 non-null object\n",
      "AP/Creds           335 non-null object\n",
      "Price              335 non-null int64\n",
      "Notes              335 non-null object\n",
      "Common (C/W)       335 non-null int64\n",
      "Uncommon (C/W)     335 non-null int64\n",
      "Rare Mod           335 non-null int64\n",
      "Rare Weap.         335 non-null int64\n",
      "Rare Char.         335 non-null int64\n",
      "UR Weap.           335 non-null int64\n",
      "UR Char.           335 non-null int64\n",
      "1 Level booster    335 non-null int64\n",
      "2 Level booster    335 non-null int64\n",
      "3 Level booster    335 non-null int64\n",
      "4 Level booster    335 non-null int64\n",
      "N. Consumbales     335 non-null int64\n",
      "Variant present    335 non-null object\n",
      "Ultra Rares        130 non-null object\n",
      "dtypes: int64(13), object(6)\n",
      "memory usage: 49.8+ KB\n"
     ]
    }
   ],
   "source": [
    "packs_raw_1_10.info()"
   ]
  },
  {
   "cell_type": "code",
   "execution_count": 6,
   "metadata": {
    "collapsed": true
   },
   "outputs": [],
   "source": [
    "packs_raw = packs_raw.append(packs_raw_1_10)"
   ]
  },
  {
   "cell_type": "code",
   "execution_count": 7,
   "metadata": {},
   "outputs": [
    {
     "data": {
      "text/plain": [
       "Bronze mod variants unfin; Silver mod unfin; Silver mod variants unfin; Silver weap unfin; Silver weap variants unfin; Silver char unfin; Gold mod variants unfin; Gold weap unfin; Gold weap variants unfin; Gold char unfin; UR weap unfin; UR char unfin                       146\n",
       "Bronze char unfin; Bronze mod variants unfin; Silver mod unfin; Silver mod variants unfin; Silver weap unfin; Silver weap variants unfin; Silver char unfin; Gold mod variants unfin; Gold weap unfin; Gold weap variants unfin; Gold char Unfin; UR weap unfin; UR char unfin    141\n",
       "Bronze mod variants unfin; Silver mod variants unfin; Silver weap variants unfin; Gold mod variants unfin; Gold weap variants unfin; UR weap unfin; UR char unfin                                                                                                                 101\n",
       "Bronze mod variants unfin; Silver mod unfin; Silver mod variants unfin; Silver weap unfin; Silver weap variants unfin; Silver char unfin; Gold mod variants unfin; Gold weap unfin; Gold weap variants unfin; UR weap unfin; UR char unfin                                         31\n",
       "Bronze mod variants unfin; Silver mod unfin; Silver mod variants unfin; Silver weap unfin; Silver weap variants unfin; Silver char unfin; Gold mod variants unfin; Gold weap unfin; Gold weap variants unfin; Gold char Unfin; UR weap unfin; UR char unfin                        25\n",
       "Bronze mod variants unfin; Silver mod unfin; Silver mod variants unfin; Silver weap variants unfin; Gold mod variants unfin; Gold weap variants unfin; UR weap unfin; UR char unfin                                                                                                17\n",
       "Bronze mod variants unfin; Silver mod unfin; Silver mod variants unfin; Silver weap unfin; Silver weap variants unfin; Gold mod variants unfin; Gold weap unfin; Gold weap variants unfin; Gold char unfin; UR weap unfin; UR char unfin                                           14\n",
       "Bronze mod variants unfin; Silver mod unfin; Silver mod variants unfin; Silver weap unfin; Silver weap variants unfin; Gold mod variants unfin; Gold weap variants unfin; UR weap unfin; UR char unfin                                                                             12\n",
       "Bronze mod variants unfin; Silver mod unfin; Silver mod variants unfin; Silver weap unfin; Silver weap variants unfin; Gold mod variants unfin; Gold weap variants unfin; Gold char unfin; UR weap unfin; UR char unfin                                                             1\n",
       "Name: Notes, dtype: int64"
      ]
     },
     "execution_count": 7,
     "metadata": {},
     "output_type": "execute_result"
    }
   ],
   "source": [
    "packs_raw['Notes'].value_counts()"
   ]
  },
  {
   "cell_type": "code",
   "execution_count": 8,
   "metadata": {},
   "outputs": [
    {
     "data": {
      "text/plain": [
       "Reserves          140\n",
       "Advanced          104\n",
       "Jumbo Supply       48\n",
       "Premium            47\n",
       "Arsenal            43\n",
       "Expert             32\n",
       "Basic              31\n",
       "Ammo Priming       25\n",
       "Supply              9\n",
       "Apex Elite          6\n",
       "Technical Mods      2\n",
       "Jumbo Premium       1\n",
       "Name: Pack, dtype: int64"
      ]
     },
     "execution_count": 8,
     "metadata": {},
     "output_type": "execute_result"
    }
   ],
   "source": [
    "packs_raw['Pack'].value_counts()"
   ]
  },
  {
   "cell_type": "code",
   "execution_count": 9,
   "metadata": {},
   "outputs": [
    {
     "name": "stdout",
     "output_type": "stream",
     "text": [
      "Number of \"premium tier\" packs = 230\n",
      "Number of UR weapons = 22\n",
      "Number of UR characters = 37\n",
      "Number of total URs = 59\n",
      "Number of UR boosters = 80\n"
     ]
    }
   ],
   "source": [
    "n_premium = 0\n",
    "prem_types = ['Arsenal', 'Reserves', 'Premium']\n",
    "for b in prem_types:\n",
    "    n_premium += len(packs_raw[packs_raw['Pack'] == b])\n",
    "print('Number of \"premium tier\" packs =', n_premium)\n",
    "\n",
    "prem_idx = packs_raw['Pack'] == prem_types[0]\n",
    "for i in range(1, len(prem_types)):\n",
    "    prem_idx |= packs_raw['Pack'] == prem_types[i]\n",
    "\n",
    "n_ur_weap = np.sum(packs_raw[prem_idx]['UR Weap.'])\n",
    "print('Number of UR weapons =', n_ur_weap)\n",
    "\n",
    "n_ur_char = np.sum(packs_raw[prem_idx]['UR Char.'])\n",
    "print('Number of UR characters =', n_ur_char)\n",
    "\n",
    "n_ur_tot = n_ur_weap + n_ur_char\n",
    "print('Number of total URs =', n_ur_tot)\n",
    "\n",
    "n_ur_boost = np.sum(packs_raw[prem_idx]['4 Level booster'])\n",
    "print('Number of UR boosters =', n_ur_boost)"
   ]
  },
  {
   "cell_type": "markdown",
   "metadata": {},
   "source": [
    "Suppose the probability of a UR character is twice that of a UR weapon over this mix of packs..."
   ]
  },
  {
   "cell_type": "code",
   "execution_count": 10,
   "metadata": {},
   "outputs": [
    {
     "data": {
      "text/plain": [
       "(array([   7.,   87.,  499.,  874., 2512., 3226., 1506., 1067.,  210.,\n",
       "          12.]),\n",
       " array([25. , 27.7, 30.4, 33.1, 35.8, 38.5, 41.2, 43.9, 46.6, 49.3, 52. ]),\n",
       " <a list of 10 Patch objects>)"
      ]
     },
     "execution_count": 10,
     "metadata": {},
     "output_type": "execute_result"
    },
    {
     "data": {
      "image/png": "[encoded data removed]",
      "text/plain": [
       "<matplotlib.figure.Figure at 0x1193c9518>"
      ]
     },
     "metadata": {},
     "output_type": "display_data"
    }
   ],
   "source": [
    "p_c = 0.666\n",
    "p_w = 1.0 - p_c\n",
    "C = stats.binom(n=n_ur_tot, p=p_c)\n",
    "data = C.rvs(10000)\n",
    "plt.hist(data)"
   ]
  },
  {
   "cell_type": "code",
   "execution_count": 11,
   "metadata": {},
   "outputs": [
    {
     "data": {
      "text/plain": [
       "0.2565217391304348"
      ]
     },
     "execution_count": 11,
     "metadata": {},
     "output_type": "execute_result"
    }
   ],
   "source": [
    "n_ur_tot / n_premium"
   ]
  },
  {
   "cell_type": "code",
   "execution_count": 20,
   "metadata": {},
   "outputs": [
    {
     "name": "stdout",
     "output_type": "stream",
     "text": [
      "Expert packs:\n",
      "32\n",
      "32\n",
      "Number of UR weapons = 1\n",
      "Number of UR characters = 2\n",
      "Number of total URs = 3\n",
      "Number of UR boosters = 6\n",
      "UR fraction = 0.093750\n"
     ]
    }
   ],
   "source": [
    "print('Expert packs:')\n",
    "n_expert = len(packs_raw[packs_raw['Pack'] == 'Expert'])\n",
    "print(n_expert)\n",
    "\n",
    "expert_idx = packs_raw['Pack'] == 'Expert'\n",
    "print(np.sum(expert_idx))\n",
    "\n",
    "n_ur_weap_ex = np.sum(packs_raw[expert_idx]['UR Weap.'])\n",
    "print('Number of UR weapons =', n_ur_weap_ex)\n",
    "\n",
    "n_ur_char_ex = np.sum(packs_raw[expert_idx]['UR Char.'])\n",
    "print('Number of UR characters =', n_ur_char_ex)\n",
    "\n",
    "n_ur_tot_ex = n_ur_weap_ex + n_ur_char_ex\n",
    "print('Number of total URs =', n_ur_tot_ex)\n",
    "\n",
    "n_ur_boost_ex = np.sum(packs_raw[expert_idx]['4 Level booster'])\n",
    "print('Number of UR boosters =', n_ur_boost_ex)\n",
    "\n",
    "print('UR fraction = %f' % (n_ur_tot_ex / n_expert))"
   ]
  },
  {
   "cell_type": "code",
   "execution_count": 33,
   "metadata": {},
   "outputs": [
    {
     "name": "stdout",
     "output_type": "stream",
     "text": [
      "number of credits purchases = 361\n",
      "number of AP purchases = 124\n",
      "number of non-cred, non-AP packs = 3\n",
      "number of bonus packs = 3\n"
     ]
    }
   ],
   "source": [
    "cred_idx = packs_raw['AP/Creds'] == 'Credits'\n",
    "print('number of credits purchases =', np.sum(cred_idx))\n",
    "\n",
    "ap_idx = packs_raw['AP/Creds'] == 'AP'\n",
    "print('number of AP purchases =', np.sum(ap_idx))\n",
    "\n",
    "print('number of non-cred, non-AP packs =', np.sum(~ap_idx & ~cred_idx))\n",
    "\n",
    "bonus_idx = packs_raw['AP/Creds'] == 'Bonus'\n",
    "print('number of bonus packs =', np.sum(bonus_idx))\n",
    "\n",
    "assert np.sum(cred_idx) + np.sum(ap_idx) + np.sum(bonus_idx) == len(packs_raw)"
   ]
  },
  {
   "cell_type": "code",
   "execution_count": 34,
   "metadata": {},
   "outputs": [
    {
     "data": {
      "text/plain": [
       "<matplotlib.axes._subplots.AxesSubplot at 0x11988d9e8>"
      ]
     },
     "execution_count": 34,
     "metadata": {},
     "output_type": "execute_result"
    },
    {
     "data": {
      "image/png": "[encoded data removed]",
      "text/plain": [
       "<matplotlib.figure.Figure at 0x1199050b8>"
      ]
     },
     "metadata": {},
     "output_type": "display_data"
    }
   ],
   "source": [
    "packs_raw['Price'][ap_idx].hist()"
   ]
  },
  {
   "cell_type": "code",
   "execution_count": 38,
   "metadata": {},
   "outputs": [
    {
     "name": "stdout",
     "output_type": "stream",
     "text": [
      "n 1000 APs =  3\n",
      "n 300 APs =  121\n"
     ]
    }
   ],
   "source": [
    "print('n 1000 APs = ', np.sum(packs_raw['Price'][ap_idx] == 1000))\n",
    "print('n 300 APs = ', np.sum(packs_raw['Price'][ap_idx] == 300))"
   ]
  },
  {
   "cell_type": "code",
   "execution_count": null,
   "metadata": {
    "collapsed": true
   },
   "outputs": [],
   "source": []
  }
 ],
 "metadata": {
  "kernelspec": {
   "display_name": "Python 3",
   "language": "python",
   "name": "python3"
  },
  "language_info": {
   "codemirror_mode": {
    "name": "ipython",
    "version": 3
   },
   "file_extension": ".py",
   "mimetype": "text/x-python",
   "name": "python",
   "nbconvert_exporter": "python",
   "pygments_lexer": "ipython3",
   "version": "3.6.2"
  }
 },
 "nbformat": 4,
 "nbformat_minor": 2
}
