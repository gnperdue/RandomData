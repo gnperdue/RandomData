{
 "cells": [
  {
   "cell_type": "markdown",
   "metadata": {},
   "source": [
    "# Pack Stats"
   ]
  },
  {
   "cell_type": "code",
   "execution_count": 1,
   "metadata": {},
   "outputs": [],
   "source": [
    "#import pymc3 as pm\n",
    "import pandas as pd\n",
    "import numpy as np\n",
    "import matplotlib.pyplot as plt\n",
    "import scipy.stats as stats\n",
    "%matplotlib inline"
   ]
  },
  {
   "cell_type": "code",
   "execution_count": 2,
   "metadata": {},
   "outputs": [
    {
     "data": {
      "text/html": [
       "<div>\n",
       "<style scoped>\n",
       "    .dataframe tbody tr th:only-of-type {\n",
       "        vertical-align: middle;\n",
       "    }\n",
       "\n",
       "    .dataframe tbody tr th {\n",
       "        vertical-align: top;\n",
       "    }\n",
       "\n",
       "    .dataframe thead th {\n",
       "        text-align: right;\n",
       "    }\n",
       "</style>\n",
       "<table border=\"1\" class=\"dataframe\">\n",
       "  <thead>\n",
       "    <tr style=\"text-align: right;\">\n",
       "      <th></th>\n",
       "      <th>Date</th>\n",
       "      <th>Pack</th>\n",
       "      <th>Price</th>\n",
       "      <th>Common (C/W)</th>\n",
       "      <th>Uncommon (C/W)</th>\n",
       "      <th>Rare Mod</th>\n",
       "      <th>Rare Weap.</th>\n",
       "      <th>Rare Char.</th>\n",
       "      <th>UR Weap.</th>\n",
       "      <th>UR Char.</th>\n",
       "      <th>1 Level booster</th>\n",
       "      <th>2 Level booster</th>\n",
       "      <th>3 Level booster</th>\n",
       "      <th>4 Level booster</th>\n",
       "      <th>N. Consumbales</th>\n",
       "    </tr>\n",
       "  </thead>\n",
       "  <tbody>\n",
       "    <tr>\n",
       "      <th>0</th>\n",
       "      <td>2017-07-06</td>\n",
       "      <td>Basic</td>\n",
       "      <td>5000.0</td>\n",
       "      <td>1.0</td>\n",
       "      <td>0.0</td>\n",
       "      <td>0.0</td>\n",
       "      <td>0.0</td>\n",
       "      <td>0.0</td>\n",
       "      <td>0.0</td>\n",
       "      <td>0.0</td>\n",
       "      <td>0.0</td>\n",
       "      <td>1.0</td>\n",
       "      <td>0.0</td>\n",
       "      <td>0.0</td>\n",
       "      <td>3.0</td>\n",
       "    </tr>\n",
       "    <tr>\n",
       "      <th>1</th>\n",
       "      <td>2017-07-06</td>\n",
       "      <td>Basic</td>\n",
       "      <td>5000.0</td>\n",
       "      <td>2.0</td>\n",
       "      <td>0.0</td>\n",
       "      <td>0.0</td>\n",
       "      <td>0.0</td>\n",
       "      <td>0.0</td>\n",
       "      <td>0.0</td>\n",
       "      <td>0.0</td>\n",
       "      <td>1.0</td>\n",
       "      <td>0.0</td>\n",
       "      <td>0.0</td>\n",
       "      <td>0.0</td>\n",
       "      <td>2.0</td>\n",
       "    </tr>\n",
       "    <tr>\n",
       "      <th>2</th>\n",
       "      <td>2017-07-06</td>\n",
       "      <td>Advanced</td>\n",
       "      <td>20000.0</td>\n",
       "      <td>0.0</td>\n",
       "      <td>1.0</td>\n",
       "      <td>0.0</td>\n",
       "      <td>0.0</td>\n",
       "      <td>0.0</td>\n",
       "      <td>0.0</td>\n",
       "      <td>0.0</td>\n",
       "      <td>1.0</td>\n",
       "      <td>0.0</td>\n",
       "      <td>0.0</td>\n",
       "      <td>0.0</td>\n",
       "      <td>3.0</td>\n",
       "    </tr>\n",
       "    <tr>\n",
       "      <th>3</th>\n",
       "      <td>2017-07-06</td>\n",
       "      <td>Basic</td>\n",
       "      <td>5000.0</td>\n",
       "      <td>2.0</td>\n",
       "      <td>0.0</td>\n",
       "      <td>0.0</td>\n",
       "      <td>0.0</td>\n",
       "      <td>0.0</td>\n",
       "      <td>0.0</td>\n",
       "      <td>0.0</td>\n",
       "      <td>1.0</td>\n",
       "      <td>0.0</td>\n",
       "      <td>0.0</td>\n",
       "      <td>0.0</td>\n",
       "      <td>2.0</td>\n",
       "    </tr>\n",
       "    <tr>\n",
       "      <th>4</th>\n",
       "      <td>2017-07-06</td>\n",
       "      <td>Basic</td>\n",
       "      <td>5000.0</td>\n",
       "      <td>1.0</td>\n",
       "      <td>0.0</td>\n",
       "      <td>0.0</td>\n",
       "      <td>0.0</td>\n",
       "      <td>0.0</td>\n",
       "      <td>0.0</td>\n",
       "      <td>0.0</td>\n",
       "      <td>1.0</td>\n",
       "      <td>0.0</td>\n",
       "      <td>0.0</td>\n",
       "      <td>0.0</td>\n",
       "      <td>3.0</td>\n",
       "    </tr>\n",
       "  </tbody>\n",
       "</table>\n",
       "</div>"
      ],
      "text/plain": [
       "         Date      Pack    Price  Common (C/W)  Uncommon (C/W)  Rare Mod  \\\n",
       "0  2017-07-06     Basic   5000.0           1.0             0.0       0.0   \n",
       "1  2017-07-06     Basic   5000.0           2.0             0.0       0.0   \n",
       "2  2017-07-06  Advanced  20000.0           0.0             1.0       0.0   \n",
       "3  2017-07-06     Basic   5000.0           2.0             0.0       0.0   \n",
       "4  2017-07-06     Basic   5000.0           1.0             0.0       0.0   \n",
       "\n",
       "   Rare Weap.  Rare Char.  UR Weap.  UR Char.  1 Level booster  \\\n",
       "0         0.0         0.0       0.0       0.0              0.0   \n",
       "1         0.0         0.0       0.0       0.0              1.0   \n",
       "2         0.0         0.0       0.0       0.0              1.0   \n",
       "3         0.0         0.0       0.0       0.0              1.0   \n",
       "4         0.0         0.0       0.0       0.0              1.0   \n",
       "\n",
       "   2 Level booster  3 Level booster  4 Level booster  N. Consumbales  \n",
       "0              1.0              0.0              0.0             3.0  \n",
       "1              0.0              0.0              0.0             2.0  \n",
       "2              0.0              0.0              0.0             3.0  \n",
       "3              0.0              0.0              0.0             2.0  \n",
       "4              0.0              0.0              0.0             3.0  "
      ]
     },
     "execution_count": 2,
     "metadata": {},
     "output_type": "execute_result"
    }
   ],
   "source": [
    "packs_raw = pd.read_csv('./1.09/MEA_Patch_1_09.csv')\n",
    "packs_raw.head()"
   ]
  },
  {
   "cell_type": "code",
   "execution_count": 3,
   "metadata": {},
   "outputs": [
    {
     "data": {
      "text/plain": [
       "['Date',\n",
       " 'Pack',\n",
       " 'Price',\n",
       " 'Common (C/W)',\n",
       " 'Uncommon (C/W)',\n",
       " 'Rare Mod',\n",
       " 'Rare Weap.',\n",
       " 'Rare Char.',\n",
       " 'UR Weap.',\n",
       " 'UR Char.',\n",
       " '1 Level booster',\n",
       " '2 Level booster',\n",
       " '3 Level booster',\n",
       " '4 Level booster',\n",
       " 'N. Consumbales']"
      ]
     },
     "execution_count": 3,
     "metadata": {},
     "output_type": "execute_result"
    }
   ],
   "source": [
    "list(packs_raw)"
   ]
  },
  {
   "cell_type": "code",
   "execution_count": 4,
   "metadata": {},
   "outputs": [
    {
     "name": "stdout",
     "output_type": "stream",
     "text": [
      "<class 'pandas.core.frame.DataFrame'>\n",
      "RangeIndex: 70 entries, 0 to 69\n",
      "Data columns (total 15 columns):\n",
      "Date               70 non-null object\n",
      "Pack               70 non-null object\n",
      "Price              70 non-null float64\n",
      "Common (C/W)       70 non-null float64\n",
      "Uncommon (C/W)     70 non-null float64\n",
      "Rare Mod           70 non-null float64\n",
      "Rare Weap.         70 non-null float64\n",
      "Rare Char.         70 non-null float64\n",
      "UR Weap.           70 non-null float64\n",
      "UR Char.           70 non-null float64\n",
      "1 Level booster    70 non-null float64\n",
      "2 Level booster    70 non-null float64\n",
      "3 Level booster    70 non-null float64\n",
      "4 Level booster    70 non-null float64\n",
      "N. Consumbales     70 non-null float64\n",
      "dtypes: float64(13), object(2)\n",
      "memory usage: 8.3+ KB\n"
     ]
    }
   ],
   "source": [
    "packs_raw.info()"
   ]
  },
  {
   "cell_type": "code",
   "execution_count": 5,
   "metadata": {},
   "outputs": [],
   "source": [
    "packs_raw_1_10 = pd.read_csv('./1.10/MEA_Patch_1_10.csv')"
   ]
  },
  {
   "cell_type": "code",
   "execution_count": 6,
   "metadata": {},
   "outputs": [
    {
     "name": "stdout",
     "output_type": "stream",
     "text": [
      "<class 'pandas.core.frame.DataFrame'>\n",
      "RangeIndex: 619 entries, 0 to 618\n",
      "Data columns (total 15 columns):\n",
      "Date               619 non-null object\n",
      "Pack               619 non-null object\n",
      "Price              610 non-null float64\n",
      "Common (C/W)       619 non-null float64\n",
      "Uncommon (C/W)     619 non-null float64\n",
      "Rare Mod           619 non-null float64\n",
      "Rare Weap.         619 non-null float64\n",
      "Rare Char.         619 non-null float64\n",
      "UR Weap.           619 non-null float64\n",
      "UR Char.           619 non-null float64\n",
      "1 Level booster    619 non-null float64\n",
      "2 Level booster    619 non-null float64\n",
      "3 Level booster    619 non-null float64\n",
      "4 Level booster    619 non-null float64\n",
      "N. Consumbales     619 non-null float64\n",
      "dtypes: float64(13), object(2)\n",
      "memory usage: 72.6+ KB\n"
     ]
    }
   ],
   "source": [
    "packs_raw_1_10.info()"
   ]
  },
  {
   "cell_type": "code",
   "execution_count": 7,
   "metadata": {},
   "outputs": [],
   "source": [
    "packs_raw_1_10 = packs_raw_1_10[pd.notnull(packs_raw_1_10['Price'])]"
   ]
  },
  {
   "cell_type": "code",
   "execution_count": 8,
   "metadata": {},
   "outputs": [],
   "source": [
    "packs_raw = packs_raw.append(packs_raw_1_10)"
   ]
  },
  {
   "cell_type": "code",
   "execution_count": 9,
   "metadata": {},
   "outputs": [
    {
     "name": "stdout",
     "output_type": "stream",
     "text": [
      "<class 'pandas.core.frame.DataFrame'>\n",
      "Int64Index: 680 entries, 0 to 618\n",
      "Data columns (total 15 columns):\n",
      "Date               680 non-null object\n",
      "Pack               680 non-null object\n",
      "Price              680 non-null float64\n",
      "Common (C/W)       680 non-null float64\n",
      "Uncommon (C/W)     680 non-null float64\n",
      "Rare Mod           680 non-null float64\n",
      "Rare Weap.         680 non-null float64\n",
      "Rare Char.         680 non-null float64\n",
      "UR Weap.           680 non-null float64\n",
      "UR Char.           680 non-null float64\n",
      "1 Level booster    680 non-null float64\n",
      "2 Level booster    680 non-null float64\n",
      "3 Level booster    680 non-null float64\n",
      "4 Level booster    680 non-null float64\n",
      "N. Consumbales     680 non-null float64\n",
      "dtypes: float64(13), object(2)\n",
      "memory usage: 85.0+ KB\n"
     ]
    }
   ],
   "source": [
    "packs_raw.info()"
   ]
  },
  {
   "cell_type": "code",
   "execution_count": 10,
   "metadata": {},
   "outputs": [
    {
     "data": {
      "text/plain": [
       "Advanced          104\n",
       "Jumbo Supply      102\n",
       "Reserves           99\n",
       "Arsenal            80\n",
       "Ammo Priming       64\n",
       "Supply             61\n",
       "Premium            55\n",
       "Technical Mods     43\n",
       "Expert             32\n",
       "Basic              31\n",
       "Jumbo Premium       5\n",
       "Apex Elite          4\n",
       "Name: Pack, dtype: int64"
      ]
     },
     "execution_count": 10,
     "metadata": {},
     "output_type": "execute_result"
    }
   ],
   "source": [
    "packs_raw['Pack'].value_counts()"
   ]
  },
  {
   "cell_type": "code",
   "execution_count": 11,
   "metadata": {},
   "outputs": [
    {
     "data": {
      "text/plain": [
       "100000.0    234\n",
       "10000.0     166\n",
       "20000.0     147\n",
       "2000.0       61\n",
       "50000.0      32\n",
       "5000.0       31\n",
       "500000.0      5\n",
       "0.0           3\n",
       "600000.0      1\n",
       "Name: Price, dtype: int64"
      ]
     },
     "execution_count": 11,
     "metadata": {},
     "output_type": "execute_result"
    }
   ],
   "source": [
    "packs_raw['Price'].value_counts()"
   ]
  },
  {
   "cell_type": "code",
   "execution_count": 12,
   "metadata": {},
   "outputs": [
    {
     "data": {
      "text/plain": [
       "5     Apex Elite\n",
       "35    Apex Elite\n",
       "91    Apex Elite\n",
       "Name: Pack, dtype: object"
      ]
     },
     "execution_count": 12,
     "metadata": {},
     "output_type": "execute_result"
    }
   ],
   "source": [
    "packs_raw['Pack'][packs_raw['Price'] == 0]"
   ]
  },
  {
   "cell_type": "code",
   "execution_count": 13,
   "metadata": {},
   "outputs": [],
   "source": [
    "packs_raw = packs_raw[packs_raw['Price'] > 0.]"
   ]
  },
  {
   "cell_type": "code",
   "execution_count": 14,
   "metadata": {},
   "outputs": [
    {
     "name": "stdout",
     "output_type": "stream",
     "text": [
      "<class 'pandas.core.frame.DataFrame'>\n",
      "Int64Index: 677 entries, 0 to 618\n",
      "Data columns (total 15 columns):\n",
      "Date               677 non-null object\n",
      "Pack               677 non-null object\n",
      "Price              677 non-null float64\n",
      "Common (C/W)       677 non-null float64\n",
      "Uncommon (C/W)     677 non-null float64\n",
      "Rare Mod           677 non-null float64\n",
      "Rare Weap.         677 non-null float64\n",
      "Rare Char.         677 non-null float64\n",
      "UR Weap.           677 non-null float64\n",
      "UR Char.           677 non-null float64\n",
      "1 Level booster    677 non-null float64\n",
      "2 Level booster    677 non-null float64\n",
      "3 Level booster    677 non-null float64\n",
      "4 Level booster    677 non-null float64\n",
      "N. Consumbales     677 non-null float64\n",
      "dtypes: float64(13), object(2)\n",
      "memory usage: 84.6+ KB\n"
     ]
    }
   ],
   "source": [
    "packs_raw.info()"
   ]
  },
  {
   "cell_type": "code",
   "execution_count": 15,
   "metadata": {},
   "outputs": [
    {
     "data": {
      "text/plain": [
       "Advanced          104\n",
       "Jumbo Supply      102\n",
       "Reserves           99\n",
       "Arsenal            80\n",
       "Ammo Priming       64\n",
       "Supply             61\n",
       "Premium            55\n",
       "Technical Mods     43\n",
       "Expert             32\n",
       "Basic              31\n",
       "Jumbo Premium       5\n",
       "Apex Elite          1\n",
       "Name: Pack, dtype: int64"
      ]
     },
     "execution_count": 15,
     "metadata": {},
     "output_type": "execute_result"
    }
   ],
   "source": [
    "packs_raw['Pack'].value_counts()"
   ]
  },
  {
   "cell_type": "code",
   "execution_count": 16,
   "metadata": {},
   "outputs": [
    {
     "name": "stdout",
     "output_type": "stream",
     "text": [
      "Number of \"premium tier\" packs = 234\n",
      "Number of UR weapons = 34\n",
      "Number of UR characters = 28\n",
      "Number of total URs = 62\n",
      "Number of UR boosters = 60\n"
     ]
    }
   ],
   "source": [
    "n_premium = 0\n",
    "prem_types = ['Arsenal', 'Reserves', 'Premium']\n",
    "for b in prem_types:\n",
    "    n_premium += len(packs_raw[packs_raw['Pack'] == b])\n",
    "print('Number of \"premium tier\" packs =', n_premium)\n",
    "\n",
    "prem_idx = packs_raw['Pack'] == prem_types[0]\n",
    "for i in range(1, len(prem_types)):\n",
    "    prem_idx |= packs_raw['Pack'] == prem_types[i]\n",
    "\n",
    "n_ur_weap = np.sum(packs_raw[prem_idx]['UR Weap.']).astype(np.int64)\n",
    "print('Number of UR weapons =', n_ur_weap)\n",
    "\n",
    "n_ur_char = np.sum(packs_raw[prem_idx]['UR Char.']).astype(np.int64)\n",
    "print('Number of UR characters =', n_ur_char)\n",
    "\n",
    "n_ur_tot = n_ur_weap + n_ur_char\n",
    "print('Number of total URs =', n_ur_tot)\n",
    "\n",
    "n_ur_boost = np.sum(packs_raw[prem_idx]['4 Level booster']).astype(np.int64)\n",
    "print('Number of UR boosters =', n_ur_boost)"
   ]
  },
  {
   "cell_type": "markdown",
   "metadata": {},
   "source": [
    "Suppose the probability of a UR character is twice that of a UR weapon over this mix of packs..."
   ]
  },
  {
   "cell_type": "code",
   "execution_count": 17,
   "metadata": {},
   "outputs": [
    {
     "data": {
      "text/plain": [
       "(array([3.000e+00, 3.400e+01, 1.720e+02, 7.610e+02, 2.094e+03, 3.129e+03,\n",
       "        2.527e+03, 1.049e+03, 2.150e+02, 1.600e+01]),\n",
       " array([25. , 27.9, 30.8, 33.7, 36.6, 39.5, 42.4, 45.3, 48.2, 51.1, 54. ]),\n",
       " <a list of 10 Patch objects>)"
      ]
     },
     "execution_count": 17,
     "metadata": {},
     "output_type": "execute_result"
    },
    {
     "data": {
      "image/png": "[encoded data removed]",
      "text/plain": [
       "<Figure size 432x288 with 1 Axes>"
      ]
     },
     "metadata": {
      "needs_background": "light"
     },
     "output_type": "display_data"
    }
   ],
   "source": [
    "p_c = 0.666\n",
    "p_w = 1.0 - p_c\n",
    "C = stats.binom(n=n_ur_tot, p=p_c)\n",
    "data = C.rvs(10000)\n",
    "plt.hist(data)"
   ]
  },
  {
   "cell_type": "code",
   "execution_count": 18,
   "metadata": {},
   "outputs": [
    {
     "data": {
      "text/plain": [
       "0.26495726495726496"
      ]
     },
     "execution_count": 18,
     "metadata": {},
     "output_type": "execute_result"
    }
   ],
   "source": [
    "n_ur_tot / n_premium"
   ]
  },
  {
   "cell_type": "code",
   "execution_count": 19,
   "metadata": {},
   "outputs": [
    {
     "name": "stdout",
     "output_type": "stream",
     "text": [
      "Expert packs: 32\n",
      "Number of UR weapons = 1.0\n",
      "Number of UR characters = 2.0\n",
      "Number of total URs = 3.0\n",
      "Number of UR boosters = 6.0\n",
      "UR fraction = 0.093750\n"
     ]
    }
   ],
   "source": [
    "n_expert = len(packs_raw[packs_raw['Pack'] == 'Expert'])\n",
    "print('Expert packs:', n_expert)\n",
    "\n",
    "expert_idx = packs_raw['Pack'] == 'Expert'\n",
    "\n",
    "n_ur_weap_ex = np.sum(packs_raw[expert_idx]['UR Weap.'])\n",
    "print('Number of UR weapons =', n_ur_weap_ex)\n",
    "\n",
    "n_ur_char_ex = np.sum(packs_raw[expert_idx]['UR Char.'])\n",
    "print('Number of UR characters =', n_ur_char_ex)\n",
    "\n",
    "n_ur_tot_ex = n_ur_weap_ex + n_ur_char_ex\n",
    "print('Number of total URs =', n_ur_tot_ex)\n",
    "\n",
    "n_ur_boost_ex = np.sum(packs_raw[expert_idx]['4 Level booster'])\n",
    "print('Number of UR boosters =', n_ur_boost_ex)\n",
    "\n",
    "print('UR fraction = %f' % (n_ur_tot_ex / n_expert))"
   ]
  },
  {
   "cell_type": "code",
   "execution_count": 20,
   "metadata": {},
   "outputs": [],
   "source": [
    "pricing_raw = packs_raw.copy()"
   ]
  },
  {
   "cell_type": "code",
   "execution_count": 21,
   "metadata": {},
   "outputs": [
    {
     "data": {
      "text/plain": [
       "pandas.core.frame.DataFrame"
      ]
     },
     "execution_count": 21,
     "metadata": {},
     "output_type": "execute_result"
    }
   ],
   "source": [
    "type(pricing_raw)"
   ]
  },
  {
   "cell_type": "code",
   "execution_count": 22,
   "metadata": {},
   "outputs": [
    {
     "name": "stdout",
     "output_type": "stream",
     "text": [
      "['Date', 'Pack', 'Price', 'Common (C/W)', 'Uncommon (C/W)', 'Rare Mod', 'Rare Weap.', 'Rare Char.', 'UR Weap.', 'UR Char.', '1 Level booster', '2 Level booster', '3 Level booster', '4 Level booster', 'N. Consumbales']\n"
     ]
    }
   ],
   "source": [
    "rems = ['Date', 'Notes', 'Variant present', 'Ultra Rares']\n",
    "rems = []\n",
    "for col in rems:\n",
    "    try:\n",
    "        pricing_raw.drop(columns=[col], inplace=True)\n",
    "    except ValueError:\n",
    "        print('{} was missing'.format(col))\n",
    "        \n",
    "print(list(pricing_raw))"
   ]
  },
  {
   "cell_type": "code",
   "execution_count": 23,
   "metadata": {},
   "outputs": [
    {
     "name": "stdout",
     "output_type": "stream",
     "text": [
      "<class 'pandas.core.frame.DataFrame'>\n",
      "Int64Index: 677 entries, 0 to 618\n",
      "Data columns (total 15 columns):\n",
      "Date               677 non-null object\n",
      "Pack               677 non-null object\n",
      "Price              677 non-null float64\n",
      "Common (C/W)       677 non-null float64\n",
      "Uncommon (C/W)     677 non-null float64\n",
      "Rare Mod           677 non-null float64\n",
      "Rare Weap.         677 non-null float64\n",
      "Rare Char.         677 non-null float64\n",
      "UR Weap.           677 non-null float64\n",
      "UR Char.           677 non-null float64\n",
      "1 Level booster    677 non-null float64\n",
      "2 Level booster    677 non-null float64\n",
      "3 Level booster    677 non-null float64\n",
      "4 Level booster    677 non-null float64\n",
      "N. Consumbales     677 non-null float64\n",
      "dtypes: float64(13), object(2)\n",
      "memory usage: 84.6+ KB\n"
     ]
    }
   ],
   "source": [
    "pricing_raw.info()"
   ]
  },
  {
   "cell_type": "code",
   "execution_count": null,
   "metadata": {},
   "outputs": [],
   "source": []
  }
 ],
 "metadata": {
  "kernelspec": {
   "display_name": "Python 3",
   "language": "python",
   "name": "python3"
  },
  "language_info": {
   "codemirror_mode": {
    "name": "ipython",
    "version": 3
   },
   "file_extension": ".py",
   "mimetype": "text/x-python",
   "name": "python",
   "nbconvert_exporter": "python",
   "pygments_lexer": "ipython3",
   "version": "3.6.7"
  }
 },
 "nbformat": 4,
 "nbformat_minor": 2
}
