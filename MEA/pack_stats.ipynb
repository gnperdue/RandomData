{
 "cells": [
  {
   "cell_type": "markdown",
   "metadata": {},
   "source": [
    "# Pack Stats"
   ]
  },
  {
   "cell_type": "code",
   "execution_count": 1,
   "metadata": {},
   "outputs": [],
   "source": [
    "import pymc3 as pm\n",
    "import pandas as pd\n",
    "import numpy as np\n",
    "import matplotlib.pyplot as plt\n",
    "import scipy.stats as stats\n",
    "%matplotlib inline"
   ]
  },
  {
   "cell_type": "code",
   "execution_count": 12,
   "metadata": {},
   "outputs": [
    {
     "data": {
      "text/html": [
       "<div>\n",
       "<table border=\"1\" class=\"dataframe\">\n",
       "  <thead>\n",
       "    <tr style=\"text-align: right;\">\n",
       "      <th></th>\n",
       "      <th>Date</th>\n",
       "      <th>Pack</th>\n",
       "      <th>AP/Creds</th>\n",
       "      <th>Price</th>\n",
       "      <th>Notes</th>\n",
       "      <th>Common (C/W)</th>\n",
       "      <th>Uncommon (C/W)</th>\n",
       "      <th>Rare Mod</th>\n",
       "      <th>Rare Weap.</th>\n",
       "      <th>Rare Char.</th>\n",
       "      <th>UR Weap.</th>\n",
       "      <th>UR Char.</th>\n",
       "      <th>1 Level booster</th>\n",
       "      <th>2 Level booster</th>\n",
       "      <th>3 Level booster</th>\n",
       "      <th>4 Level booster</th>\n",
       "      <th>N. Consumbales</th>\n",
       "      <th>Variant present</th>\n",
       "      <th>Ultra Rares</th>\n",
       "    </tr>\n",
       "  </thead>\n",
       "  <tbody>\n",
       "    <tr>\n",
       "      <th>0</th>\n",
       "      <td>6-Jul-17</td>\n",
       "      <td>Basic</td>\n",
       "      <td>Credits</td>\n",
       "      <td>5000</td>\n",
       "      <td>Bronze char unfin; Bronze mod variants unfin; ...</td>\n",
       "      <td>1</td>\n",
       "      <td>0</td>\n",
       "      <td>0</td>\n",
       "      <td>0</td>\n",
       "      <td>0</td>\n",
       "      <td>0</td>\n",
       "      <td>0</td>\n",
       "      <td>0</td>\n",
       "      <td>1</td>\n",
       "      <td>0</td>\n",
       "      <td>0</td>\n",
       "      <td>3</td>\n",
       "      <td>No</td>\n",
       "      <td>NaN</td>\n",
       "    </tr>\n",
       "    <tr>\n",
       "      <th>1</th>\n",
       "      <td>6-Jul-17</td>\n",
       "      <td>Basic</td>\n",
       "      <td>Credits</td>\n",
       "      <td>5000</td>\n",
       "      <td>Bronze char unfin; Bronze mod variants unfin; ...</td>\n",
       "      <td>2</td>\n",
       "      <td>0</td>\n",
       "      <td>0</td>\n",
       "      <td>0</td>\n",
       "      <td>0</td>\n",
       "      <td>0</td>\n",
       "      <td>0</td>\n",
       "      <td>1</td>\n",
       "      <td>0</td>\n",
       "      <td>0</td>\n",
       "      <td>0</td>\n",
       "      <td>2</td>\n",
       "      <td>No</td>\n",
       "      <td>NaN</td>\n",
       "    </tr>\n",
       "    <tr>\n",
       "      <th>2</th>\n",
       "      <td>6-Jul-17</td>\n",
       "      <td>Advanced</td>\n",
       "      <td>Credits</td>\n",
       "      <td>20000</td>\n",
       "      <td>Bronze char unfin; Bronze mod variants unfin; ...</td>\n",
       "      <td>0</td>\n",
       "      <td>1</td>\n",
       "      <td>0</td>\n",
       "      <td>0</td>\n",
       "      <td>0</td>\n",
       "      <td>0</td>\n",
       "      <td>0</td>\n",
       "      <td>1</td>\n",
       "      <td>0</td>\n",
       "      <td>0</td>\n",
       "      <td>0</td>\n",
       "      <td>3</td>\n",
       "      <td>No</td>\n",
       "      <td>NaN</td>\n",
       "    </tr>\n",
       "    <tr>\n",
       "      <th>3</th>\n",
       "      <td>6-Jul-17</td>\n",
       "      <td>Basic</td>\n",
       "      <td>Credits</td>\n",
       "      <td>5000</td>\n",
       "      <td>Bronze char unfin; Bronze mod variants unfin; ...</td>\n",
       "      <td>2</td>\n",
       "      <td>0</td>\n",
       "      <td>0</td>\n",
       "      <td>0</td>\n",
       "      <td>0</td>\n",
       "      <td>0</td>\n",
       "      <td>0</td>\n",
       "      <td>1</td>\n",
       "      <td>0</td>\n",
       "      <td>0</td>\n",
       "      <td>0</td>\n",
       "      <td>2</td>\n",
       "      <td>No</td>\n",
       "      <td>NaN</td>\n",
       "    </tr>\n",
       "    <tr>\n",
       "      <th>4</th>\n",
       "      <td>6-Jul-17</td>\n",
       "      <td>Basic</td>\n",
       "      <td>Credits</td>\n",
       "      <td>5000</td>\n",
       "      <td>Bronze char unfin; Bronze mod variants unfin; ...</td>\n",
       "      <td>1</td>\n",
       "      <td>0</td>\n",
       "      <td>0</td>\n",
       "      <td>0</td>\n",
       "      <td>0</td>\n",
       "      <td>0</td>\n",
       "      <td>0</td>\n",
       "      <td>1</td>\n",
       "      <td>0</td>\n",
       "      <td>0</td>\n",
       "      <td>0</td>\n",
       "      <td>3</td>\n",
       "      <td>No</td>\n",
       "      <td>NaN</td>\n",
       "    </tr>\n",
       "  </tbody>\n",
       "</table>\n",
       "</div>"
      ],
      "text/plain": [
       "       Date      Pack AP/Creds  Price  \\\n",
       "0  6-Jul-17     Basic  Credits   5000   \n",
       "1  6-Jul-17     Basic  Credits   5000   \n",
       "2  6-Jul-17  Advanced  Credits  20000   \n",
       "3  6-Jul-17     Basic  Credits   5000   \n",
       "4  6-Jul-17     Basic  Credits   5000   \n",
       "\n",
       "                                               Notes  Common (C/W)  \\\n",
       "0  Bronze char unfin; Bronze mod variants unfin; ...             1   \n",
       "1  Bronze char unfin; Bronze mod variants unfin; ...             2   \n",
       "2  Bronze char unfin; Bronze mod variants unfin; ...             0   \n",
       "3  Bronze char unfin; Bronze mod variants unfin; ...             2   \n",
       "4  Bronze char unfin; Bronze mod variants unfin; ...             1   \n",
       "\n",
       "   Uncommon (C/W)  Rare Mod  Rare Weap.  Rare Char.  UR Weap.  UR Char.  \\\n",
       "0               0         0           0           0         0         0   \n",
       "1               0         0           0           0         0         0   \n",
       "2               1         0           0           0         0         0   \n",
       "3               0         0           0           0         0         0   \n",
       "4               0         0           0           0         0         0   \n",
       "\n",
       "   1 Level booster  2 Level booster  3 Level booster  4 Level booster  \\\n",
       "0                0                1                0                0   \n",
       "1                1                0                0                0   \n",
       "2                1                0                0                0   \n",
       "3                1                0                0                0   \n",
       "4                1                0                0                0   \n",
       "\n",
       "   N. Consumbales Variant present Ultra Rares  \n",
       "0               3              No         NaN  \n",
       "1               2              No         NaN  \n",
       "2               3              No         NaN  \n",
       "3               2              No         NaN  \n",
       "4               3              No         NaN  "
      ]
     },
     "execution_count": 12,
     "metadata": {},
     "output_type": "execute_result"
    }
   ],
   "source": [
    "packs_raw = pd.read_csv('./1.09/MEA_Patch_1_09.csv')\n",
    "packs_raw.head()"
   ]
  },
  {
   "cell_type": "code",
   "execution_count": 13,
   "metadata": {},
   "outputs": [
    {
     "name": "stdout",
     "output_type": "stream",
     "text": [
      "<class 'pandas.core.frame.DataFrame'>\n",
      "RangeIndex: 153 entries, 0 to 152\n",
      "Data columns (total 19 columns):\n",
      "Date               153 non-null object\n",
      "Pack               153 non-null object\n",
      "AP/Creds           153 non-null object\n",
      "Price              153 non-null int64\n",
      "Notes              153 non-null object\n",
      "Common (C/W)       153 non-null int64\n",
      "Uncommon (C/W)     153 non-null int64\n",
      "Rare Mod           153 non-null int64\n",
      "Rare Weap.         153 non-null int64\n",
      "Rare Char.         153 non-null int64\n",
      "UR Weap.           153 non-null int64\n",
      "UR Char.           153 non-null int64\n",
      "1 Level booster    153 non-null int64\n",
      "2 Level booster    153 non-null int64\n",
      "3 Level booster    153 non-null int64\n",
      "4 Level booster    153 non-null int64\n",
      "N. Consumbales     153 non-null int64\n",
      "Variant present    153 non-null object\n",
      "Ultra Rares        58 non-null object\n",
      "dtypes: int64(13), object(6)\n",
      "memory usage: 22.8+ KB\n"
     ]
    }
   ],
   "source": [
    "packs_raw.info()"
   ]
  },
  {
   "cell_type": "code",
   "execution_count": 14,
   "metadata": {
    "collapsed": true
   },
   "outputs": [],
   "source": [
    "packs_raw_1_10 = pd.read_csv('./1.10/MEA_Patch_1_10.csv')"
   ]
  },
  {
   "cell_type": "code",
   "execution_count": 15,
   "metadata": {},
   "outputs": [
    {
     "name": "stdout",
     "output_type": "stream",
     "text": [
      "<class 'pandas.core.frame.DataFrame'>\n",
      "RangeIndex: 75 entries, 0 to 74\n",
      "Data columns (total 19 columns):\n",
      "Date               75 non-null object\n",
      "Pack               75 non-null object\n",
      "AP/Creds           75 non-null object\n",
      "Price              75 non-null int64\n",
      "Notes              75 non-null object\n",
      "Common (C/W)       75 non-null int64\n",
      "Uncommon (C/W)     75 non-null int64\n",
      "Rare Mod           75 non-null int64\n",
      "Rare Weap.         75 non-null int64\n",
      "Rare Char.         75 non-null int64\n",
      "UR Weap.           75 non-null int64\n",
      "UR Char.           75 non-null int64\n",
      "1 Level booster    75 non-null int64\n",
      "2 Level booster    75 non-null int64\n",
      "3 Level booster    75 non-null int64\n",
      "4 Level booster    75 non-null int64\n",
      "N. Consumbales     75 non-null int64\n",
      "Variant present    75 non-null object\n",
      "Ultra Rares        22 non-null object\n",
      "dtypes: int64(13), object(6)\n",
      "memory usage: 11.2+ KB\n"
     ]
    }
   ],
   "source": [
    "packs_raw_1_10.info()"
   ]
  },
  {
   "cell_type": "code",
   "execution_count": 16,
   "metadata": {
    "collapsed": true
   },
   "outputs": [],
   "source": [
    "packs_raw = packs_raw.append(packs_raw_1_10)"
   ]
  },
  {
   "cell_type": "code",
   "execution_count": 17,
   "metadata": {},
   "outputs": [
    {
     "data": {
      "text/plain": [
       "Bronze char unfin; Bronze mod variants unfin; Silver mod unfin; Silver mod variants unfin; Silver weap unfin; Silver weap variants unfin; Silver char unfin; Gold mod variants unfin; Gold weap unfin; Gold weap variants unfin; Gold char Unfin; UR weap unfin; UR char unfin    141\n",
       "Bronze mod variants unfin; Silver mod unfin; Silver mod variants unfin; Silver weap unfin; Silver weap variants unfin; Silver char unfin; Gold mod variants unfin; Gold weap unfin; Gold weap variants unfin; UR weap unfin; UR char unfin                                         34\n",
       "Bronze mod variants unfin; Silver mod unfin; Silver mod variants unfin; Silver weap unfin; Silver weap variants unfin; Silver char unfin; Gold mod variants unfin; Gold weap unfin; Gold weap variants unfin; Gold char unfin; UR weap unfin; UR char unfin                        28\n",
       "Bronze mod variants unfin; Silver mod unfin; Silver mod variants unfin; Silver weap unfin; Silver weap variants unfin; Silver char unfin; Gold mod variants unfin; Gold weap unfin; Gold weap variants unfin; Gold char Unfin; UR weap unfin; UR char unfin                        25\n",
       "Name: Notes, dtype: int64"
      ]
     },
     "execution_count": 17,
     "metadata": {},
     "output_type": "execute_result"
    }
   ],
   "source": [
    "packs_raw['Notes'].value_counts()"
   ]
  },
  {
   "cell_type": "code",
   "execution_count": 18,
   "metadata": {},
   "outputs": [
    {
     "data": {
      "text/plain": [
       "Reserves        74\n",
       "Arsenal         42\n",
       "Advanced        35\n",
       "Basic           31\n",
       "Jumbo Supply    18\n",
       "Premium         13\n",
       "Expert          10\n",
       "Apex Elite       5\n",
       "Name: Pack, dtype: int64"
      ]
     },
     "execution_count": 18,
     "metadata": {},
     "output_type": "execute_result"
    }
   ],
   "source": [
    "packs_raw['Pack'].value_counts()"
   ]
  },
  {
   "cell_type": "code",
   "execution_count": 27,
   "metadata": {},
   "outputs": [
    {
     "name": "stdout",
     "output_type": "stream",
     "text": [
      "Number of \"premium tier\" packs = 129\n",
      "Number of UR weapons = 16\n",
      "Number of UR characters = 22\n",
      "Number of UR boosters = 40\n"
     ]
    }
   ],
   "source": [
    "n_reserves = 0\n",
    "prem_types = ['Arsenal', 'Reserves', 'Premium']\n",
    "for b in prem_types:\n",
    "    n_reserves += len(packs_raw[packs_raw['Pack'] == b])\n",
    "print('Number of \"premium tier\" packs =', n_reserves)\n",
    "\n",
    "prem_idx = packs_raw['Pack'] == prem_types[0]\n",
    "for i in range(1, len(prem_types)):\n",
    "    prem_idx |= packs_raw['Pack'] == prem_types[i]\n",
    "\n",
    "n_ur_weap = np.sum(packs_raw[prem_idx]['UR Weap.'])\n",
    "print('Number of UR weapons =', n_ur_weap)\n",
    "\n",
    "n_ur_char = np.sum(packs_raw[prem_idx]['UR Char.'])\n",
    "print('Number of UR characters =', n_ur_char)\n",
    "\n",
    "n_ur_boost = np.sum(packs_raw[prem_idx]['4 Level booster'])\n",
    "print('Number of UR boosters =', n_ur_boost)"
   ]
  },
  {
   "cell_type": "markdown",
   "metadata": {},
   "source": [
    "Suppose the probability of a UR character is twice that of a UR weapon..."
   ]
  },
  {
   "cell_type": "code",
   "execution_count": 28,
   "metadata": {},
   "outputs": [
    {
     "data": {
      "text/plain": [
       "(array([   16.,   162.,   770.,   865.,  2822.,  3114.,  1113.,   988.,\n",
       "          143.,     7.]),\n",
       " array([  8. ,   9.7,  11.4,  13.1,  14.8,  16.5,  18.2,  19.9,  21.6,\n",
       "         23.3,  25. ]),\n",
       " <a list of 10 Patch objects>)"
      ]
     },
     "execution_count": 28,
     "metadata": {},
     "output_type": "execute_result"
    },
    {
     "data": {
      "image/png": "[encoded data removed]",
      "text/plain": [
       "<matplotlib.figure.Figure at 0x11ae8bbe0>"
      ]
     },
     "metadata": {},
     "output_type": "display_data"
    }
   ],
   "source": [
    "p_c = 0.666\n",
    "p_w = 1.0 - p_c\n",
    "C = stats.binom(n=25, p=p_c)\n",
    "data = C.rvs(10000)\n",
    "plt.hist(data)"
   ]
  },
  {
   "cell_type": "code",
   "execution_count": 29,
   "metadata": {},
   "outputs": [
    {
     "data": {
      "text/plain": [
       "443"
      ]
     },
     "execution_count": 29,
     "metadata": {},
     "output_type": "execute_result"
    }
   ],
   "source": [
    "np.sum(data <= 12)"
   ]
  },
  {
   "cell_type": "code",
   "execution_count": 30,
   "metadata": {
    "collapsed": true
   },
   "outputs": [],
   "source": [
    "v1 = data <= 12\n",
    "v2 = data >= 20"
   ]
  },
  {
   "cell_type": "code",
   "execution_count": 31,
   "metadata": {},
   "outputs": [
    {
     "data": {
      "text/plain": [
       "0.29457364341085274"
      ]
     },
     "execution_count": 31,
     "metadata": {},
     "output_type": "execute_result"
    }
   ],
   "source": [
    "38 / 129"
   ]
  },
  {
   "cell_type": "code",
   "execution_count": 32,
   "metadata": {},
   "outputs": [
    {
     "data": {
      "text/plain": [
       "0.14728682170542637"
      ]
     },
     "execution_count": 32,
     "metadata": {},
     "output_type": "execute_result"
    }
   ],
   "source": [
    "38 / (129 * 2)"
   ]
  },
  {
   "cell_type": "code",
   "execution_count": null,
   "metadata": {
    "collapsed": true
   },
   "outputs": [],
   "source": []
  }
 ],
 "metadata": {
  "kernelspec": {
   "display_name": "Python 3",
   "language": "python",
   "name": "python3"
  },
  "language_info": {
   "codemirror_mode": {
    "name": "ipython",
    "version": 3
   },
   "file_extension": ".py",
   "mimetype": "text/x-python",
   "name": "python",
   "nbconvert_exporter": "python",
   "pygments_lexer": "ipython3",
   "version": "3.5.3"
  }
 },
 "nbformat": 4,
 "nbformat_minor": 2
}
